{
  "cells": [
    {
      "cell_type": "markdown",
      "metadata": {
        "id": "view-in-github",
        "colab_type": "text"
      },
      "source": [
        "<a href=\"https://colab.research.google.com/github/ericslevenson/arctic-surface-water/blob/main/S2maskedmosaic.ipynb\" target=\"_parent\"><img src=\"https://colab.research.google.com/assets/colab-badge.svg\" alt=\"Open In Colab\"/></a>"
      ]
    },
    {
      "cell_type": "code",
      "execution_count": null,
      "metadata": {
        "id": "rEwquWCoZnNG"
      },
      "outputs": [],
      "source": [
        "'''\n",
        "Created 7-22-2022\n",
        "\n",
        "author: @ericslevenson\n",
        "\n",
        "Produce cloud-masked Sentinel-2 mosaics in Earth Engine and export for prediction\n",
        "'''"
      ]
    },
    {
      "cell_type": "code",
      "source": [
        "'''\n",
        "Instructions:\n",
        "Enter the ROI and time period and produce either: (a) a BGRN cloud-masked mosaic\n",
        "from the clearest day in the time period, or (b) a BGRN median composite of the \n",
        "images above a certain clearness threshold. Method A is preferable. Export to\n",
        "Google Drive for UNET Lake prediction. \n",
        "'''"
      ],
      "metadata": {
        "id": "X38xi6uTm8hG"
      },
      "execution_count": null,
      "outputs": []
    },
    {
      "cell_type": "code",
      "execution_count": null,
      "metadata": {
        "id": "l42QtwffD69o"
      },
      "outputs": [],
      "source": [
        "'''TODO\n",
        "--Keep manual inspection, but add image to imagecollection then batch export\n",
        "'''"
      ]
    },
    {
      "cell_type": "code",
      "execution_count": null,
      "metadata": {
        "id": "uPHQmxJZZ62f",
        "colab": {
          "base_uri": "https://localhost:8080/"
        },
        "outputId": "49fde6d8-67eb-4002-cbad-c26573a59e44"
      },
      "outputs": [
        {
          "output_type": "stream",
          "name": "stdout",
          "text": [
            "To authorize access needed by Earth Engine, open the following URL in a web browser and follow the instructions. If the web browser does not start automatically, please manually browse the URL below.\n",
            "\n",
            "    https://code.earthengine.google.com/client-auth?scopes=https%3A//www.googleapis.com/auth/earthengine%20https%3A//www.googleapis.com/auth/devstorage.full_control&request_id=QTcZ7OuklsjaHlpgCYcLuj2-HNgfCIYoQrqNTd5WqlI&tc=OYsnwkWHNShVLdip5fSyT9c77Qr3U-9PwiOFCQjPCkE&cc=cM0hU6Dzm3_xkshWeSAmjSf_-dg325e-QutzdqdZl3U\n",
            "\n",
            "The authorization workflow will generate a code, which you should paste in the box below.\n",
            "Enter verification code: 4/1ARtbsJqF9GqzuokfeJnHKOCt_lLnqQsOkWsXmKjHeBnI6e_w59ACKAmId8A\n",
            "\n",
            "Successfully saved authorization token.\n",
            "Mounted at /content/drive\n"
          ]
        }
      ],
      "source": [
        "# Authenticate private account (only required for exporting to drive/gee/gcp)\n",
        "from google.colab import auth \n",
        "auth.authenticate_user()\n",
        "\n",
        "# Earth Engine setup\n",
        "import ee # Trigger the authentication flow.\n",
        "ee.Authenticate()\n",
        "ee.Initialize() # Initialize the library.\n",
        "\n",
        "# Google Drive setup (if needed)\n",
        "from google.colab import drive\n",
        "drive.mount('/content/drive')\n",
        "\n",
        "# Some common imports\n",
        "from IPython.display import Image\n",
        "import folium"
      ]
    },
    {
      "cell_type": "code",
      "execution_count": null,
      "metadata": {
        "id": "0IDWtA5waRc7"
      },
      "outputs": [],
      "source": [
        "### Inputs\n",
        "roi = ee.FeatureCollection('projects/ee-eric-levenson/assets/woodwellS2/yukon_flats_AOI')\n",
        "cell = '5N_CCC'\n",
        "#roi = grid.filter('ID_1 == \"5N_CCC\"')\n",
        "#roi = roi.reproject(epsg)\n",
        "polygon = ee.Geometry.Polygon(roi.geometry().bounds().getInfo()['coordinates'][0]) \n",
        "# Set time period dates \n",
        "start = ee.Date('2019-05-01')\n",
        "finish = ee.Date('2021-10-30')\n",
        "coverage = .8 # ratio of roi covered in clear pixels\n",
        "epsg = 'EPSG:32605'\n",
        "projection = ee.Projection('EPSG:32606').atScale(10)"
      ]
    },
    {
      "cell_type": "code",
      "source": [
        "polygon.area().getInfo()"
      ],
      "metadata": {
        "colab": {
          "base_uri": "https://localhost:8080/"
        },
        "id": "_90_9pb31EiM",
        "outputId": "acbed282-0e69-4ae7-ce31-cba8d65d066e"
      },
      "execution_count": null,
      "outputs": [
        {
          "output_type": "execute_result",
          "data": {
            "text/plain": [
              "6685079656.686183"
            ]
          },
          "metadata": {},
          "execution_count": 87
        }
      ]
    },
    {
      "cell_type": "code",
      "execution_count": null,
      "metadata": {
        "id": "MCCnez7rasSK"
      },
      "outputs": [],
      "source": [
        "## ***IMAGE PRE-PROCESSING METHODS***\n",
        "\n",
        "# Mask clouds in Sentinel-2\n",
        "def maskS2clouds(image):\n",
        "  '''Takes an input and adds two bands: cloud mask and clear mask'''\n",
        "  qa = image.select('QA60')\n",
        "  cloudBitMask = 1 << 10\n",
        "  cirrusBitMask = 1 << 11\n",
        "  clear_mask = qa.bitwiseAnd(cloudBitMask).eq(0).And(qa.bitwiseAnd(cirrusBitMask).eq(0)).rename('clear_mask')\n",
        "  cloud_mask = qa.bitwiseAnd(cloudBitMask).eq(1).And(qa.bitwiseAnd(cirrusBitMask).eq(1)).rename('cloud_mask')\n",
        "  return image.addBands([cloud_mask,clear_mask])\n",
        "\n",
        "# Apply cloud mask to other bands\n",
        "def applyMask(image):\n",
        "  img = image.updateMask(image.select('clear_mask'))\n",
        "  return img\n",
        "\n",
        "# Clip image\n",
        "def clip_image(image):\n",
        "  '''Clips to the roi defined at the beginning of the script'''\n",
        "  return image.clip(roi)\n",
        "\n",
        "  # Mosaic images by date, orbit, - basically combines images together that were taken on the same day \n",
        "def mosaicBy(imcol):\n",
        "  '''Takes an image collection (imcol) and creates a mosaic for each day\n",
        "  Returns: An image collection of daily mosaics'''\n",
        "  #return the collection as a list of images (not an image collection)\n",
        "  imlist = imcol.toList(imcol.size())\n",
        "  # Get all the dates as list\n",
        "  def imdate(im):\n",
        "    date = ee.Image(im).date().format(\"YYYY-MM-dd\")\n",
        "    return date\n",
        "  all_dates = imlist.map(imdate)\n",
        "  # get all orbits as list\n",
        "  def orbitId(im):\n",
        "    orb = ee.Image(im).get('SENSING_ORBIT_NUMBER')\n",
        "    return orb\n",
        "  all_orbits = imlist.map(orbitId)\n",
        "  # get all spacecraft names as list\n",
        "  def spacecraft(im):\n",
        "    return ee.Image(im).get('SPACECRAFT_NAME')\n",
        "  all_spNames = imlist.map(spacecraft)\n",
        "  # this puts dates, orbits and names into a nested list\n",
        "  concat_all = all_dates.zip(all_orbits).zip(all_spNames);\n",
        "  # here we unnest the list with flatten, and then concatenate the list elements with \" \"\n",
        "  def concat(el):\n",
        "    return ee.List(el).flatten().join(\" \")\n",
        "  concat_all = concat_all.map(concat)\n",
        "  # here, just get distinct combintations of date, orbit and name\n",
        "  concat_unique = concat_all.distinct()\n",
        "  # mosaic\n",
        "  def mosaicIms(d):\n",
        "    d1 = ee.String(d).split(\" \")\n",
        "    date1 = ee.Date(d1.get(0))\n",
        "    orbit = ee.Number.parse(d1.get(1)).toInt()\n",
        "    spName = ee.String(d1.get(2))\n",
        "    im = imcol.filterDate(date1, date1.advance(1, \"day\")).filterMetadata('SPACECRAFT_NAME', 'equals', spName).filterMetadata('SENSING_ORBIT_NUMBER','equals', orbit).mosaic()\n",
        "    return im.set(\n",
        "        \"system:time_start\", date1.millis(),\n",
        "        \"system:date\", date1.format(\"YYYY-MM-dd\"),\n",
        "        \"system:id\", d1)\n",
        "  mosaic_imlist = concat_unique.map(mosaicIms)\n",
        "  return ee.ImageCollection(mosaic_imlist)\n",
        "\n",
        "def reprojectMosaic(image):\n",
        "  '''Reproject to UTM. A future function should take the image location and return\n",
        "  the UTM zone. For now, I'm manually entering the EPSG code.'''\n",
        "  image_projected = image.reproject(epsg).atScale(10)\n",
        "  return image_projected\n",
        "\n",
        "# Get percentile cover   \n",
        "def getCover(image):\n",
        "  '''calculates percentage of the roi covered by the clear mask. NOTE: this function\n",
        "  calls the global totPixels variable that needs to be calculated in the main script.'''\n",
        "  actPixels = ee.Number(image.updateMask(image.select('clear_mask')).reduceRegion(\n",
        "      reducer = ee.Reducer.count(),\n",
        "      scale = 100,\n",
        "      geometry = roi,\n",
        "      maxPixels=1e12,\n",
        "      ).values().get(0))\n",
        "  # calculate the perc of cover OF CLEAR PIXELS \n",
        "  percCover = actPixels.divide(totPixels).multiply(100).round()\n",
        "  # number as output\n",
        "  return image.set('percCover', percCover,'actPixels',actPixels)\n",
        "\n",
        "# Select bgrn bands\n",
        "def selectBands(image):\n",
        "  img = image.select(['B2', 'B3', 'B4', 'B8'])\n",
        "  return img\n",
        "\n",
        "def add_ee_layer(self, ee_image_object, vis_params, name):\n",
        "  map_id_dict = ee.Image(ee_image_object).getMapId(vis_params)\n",
        "  folium.raster_layers.TileLayer(\n",
        "      tiles=map_id_dict['tile_fetcher'].url_format,\n",
        "      attr='Map Data &copy; <a href=\"https://earthengine.google.com/\">Google Earth Engine</a>',\n",
        "      name=name,\n",
        "      overlay=True,\n",
        "      control=True\n",
        "  ).add_to(self)\n",
        "\n",
        "folium.Map.add_ee_layer = add_ee_layer"
      ]
    },
    {
      "cell_type": "code",
      "source": [
        "##Based on S2 Tiles::"
      ],
      "metadata": {
        "id": "vB6vND7sxWmq"
      },
      "execution_count": null,
      "outputs": []
    },
    {
      "cell_type": "code",
      "source": [
        "# Original method...best image per month\n",
        "start = '2020-08-01'\n",
        "finish = '2020-09-15'\n",
        "eestart = ee.Date(start)\n",
        "eefinish = ee.Date(finish)\n",
        "coverage = 75 # ratio of roi covered in clear pixels\n",
        "## Image Pre-Processing KEEP THIS ORIGINAL\n",
        "images = ee.ImageCollection('COPERNICUS/S2').filterBounds(roi).filterDate(start,finish).filter(ee.Filter.lt('CLOUDY_PIXEL_PERCENTAGE',50)) # Get Images\n",
        "images_all = mosaicBy(images) # Mosaic images\n",
        "images_all = images_all.map(maskS2clouds) # Create cloud/clear masks\n",
        "images_all = images_all.map(clip_image) # Clip to roi\n",
        "images_all = images_all.map(applyMask) # mask other bands that are cloudy\n",
        "image_mask = images.select('B2').mean().clip(roi).gte(0) #First, calculate total number of pixels\n",
        "totPixels = ee.Number(image_mask.reduceRegion(\n",
        "    reducer = ee.Reducer.count(),\n",
        "    scale = 100,\n",
        "    geometry = roi,\n",
        "    maxPixels = 1e12\n",
        "    ).values().get(0))\n",
        "images_all = images_all.map(getCover) # Add percent cover as an image property\n",
        "images_all = images_all.filterMetadata('percCover','greater_than',50) # remove images covering less than 50% of the ROI)\n",
        "images_all = images_all.map(selectBands) # reduce to bgrn bands\n",
        "percCovers = images_all.aggregate_array('percCover').getInfo() # get non EE list of percent covers\n",
        "maxim = max(percCovers) # get maximum percent cover\n",
        "best_image = images_all.filterMetadata('percCover','equals',maxim) # get image with max percent cover\n",
        "img = ee.Image(best_image.first())\n",
        "#img = reprojectMosaic(img)\n",
        "date = img.getInfo()['id'][0] # get date for export\n",
        "date = date.replace('-','')\n",
        "filename = str(date+'YKF_BGRN_SR')"
      ],
      "metadata": {
        "id": "A4xkHCtzqCm9"
      },
      "execution_count": null,
      "outputs": []
    },
    {
      "cell_type": "code",
      "source": [
        "percCovers"
      ],
      "metadata": {
        "colab": {
          "base_uri": "https://localhost:8080/"
        },
        "id": "SWSjTb-m1usU",
        "outputId": "064ce1c8-19fc-48c7-b463-d2be0c47c780"
      },
      "execution_count": null,
      "outputs": [
        {
          "output_type": "execute_result",
          "data": {
            "text/plain": [
              "[98, 56, 80, 72, 85, 90, 100, 69, 89, 77, 100, 94, 85]"
            ]
          },
          "metadata": {},
          "execution_count": 31
        }
      ]
    },
    {
      "cell_type": "code",
      "source": [
        "filename"
      ],
      "metadata": {
        "colab": {
          "base_uri": "https://localhost:8080/",
          "height": 35
        },
        "id": "5F7Dy6M1NgRw",
        "outputId": "86d21c72-18f4-479e-fa6c-f4fbb025acb6"
      },
      "execution_count": null,
      "outputs": [
        {
          "output_type": "execute_result",
          "data": {
            "text/plain": [
              "'20200817YKF_BGRN_SR'"
            ],
            "application/vnd.google.colaboratory.intrinsic+json": {
              "type": "string"
            }
          },
          "metadata": {},
          "execution_count": 32
        }
      ]
    },
    {
      "cell_type": "code",
      "execution_count": null,
      "metadata": {
        "id": "Jw4wypVvZTnx",
        "colab": {
          "base_uri": "https://localhost:8080/",
          "height": 1000
        },
        "outputId": "23ea86f6-4e7b-47db-b683-24a4b54dbf6b"
      },
      "outputs": [
        {
          "output_type": "display_data",
          "data": {
            "text/plain": [
              "<folium.folium.Map at 0x7fde722cc290>"
            ],
            "text/html": [
              "<div style=\"width:100%;\"><div style=\"position:relative;width:100%;height:0;padding-bottom:60%;\"><span style=\"color:#565656\">Make this Notebook Trusted to load map: File -> Trust Notebook</span><iframe srcdoc=\"&lt;!DOCTYPE html&gt;\n",
              "&lt;head&gt;    \n",
              "    &lt;meta http-equiv=&quot;content-type&quot; content=&quot;text/html; charset=UTF-8&quot; /&gt;\n",
              "    \n",
              "        &lt;script&gt;\n",
              "            L_NO_TOUCH = false;\n",
              "            L_DISABLE_3D = false;\n",
              "        &lt;/script&gt;\n",
              "    \n",
              "    &lt;style&gt;html, body {width: 100%;height: 100%;margin: 0;padding: 0;}&lt;/style&gt;\n",
              "    &lt;style&gt;#map {position:absolute;top:0;bottom:0;right:0;left:0;}&lt;/style&gt;\n",
              "    &lt;script src=&quot;https://cdn.jsdelivr.net/npm/leaflet@1.6.0/dist/leaflet.js&quot;&gt;&lt;/script&gt;\n",
              "    &lt;script src=&quot;https://code.jquery.com/jquery-1.12.4.min.js&quot;&gt;&lt;/script&gt;\n",
              "    &lt;script src=&quot;https://maxcdn.bootstrapcdn.com/bootstrap/3.2.0/js/bootstrap.min.js&quot;&gt;&lt;/script&gt;\n",
              "    &lt;script src=&quot;https://cdnjs.cloudflare.com/ajax/libs/Leaflet.awesome-markers/2.0.2/leaflet.awesome-markers.js&quot;&gt;&lt;/script&gt;\n",
              "    &lt;link rel=&quot;stylesheet&quot; href=&quot;https://cdn.jsdelivr.net/npm/leaflet@1.6.0/dist/leaflet.css&quot;/&gt;\n",
              "    &lt;link rel=&quot;stylesheet&quot; href=&quot;https://maxcdn.bootstrapcdn.com/bootstrap/3.2.0/css/bootstrap.min.css&quot;/&gt;\n",
              "    &lt;link rel=&quot;stylesheet&quot; href=&quot;https://maxcdn.bootstrapcdn.com/bootstrap/3.2.0/css/bootstrap-theme.min.css&quot;/&gt;\n",
              "    &lt;link rel=&quot;stylesheet&quot; href=&quot;https://maxcdn.bootstrapcdn.com/font-awesome/4.6.3/css/font-awesome.min.css&quot;/&gt;\n",
              "    &lt;link rel=&quot;stylesheet&quot; href=&quot;https://cdnjs.cloudflare.com/ajax/libs/Leaflet.awesome-markers/2.0.2/leaflet.awesome-markers.css&quot;/&gt;\n",
              "    &lt;link rel=&quot;stylesheet&quot; href=&quot;https://cdn.jsdelivr.net/gh/python-visualization/folium/folium/templates/leaflet.awesome.rotate.min.css&quot;/&gt;\n",
              "    \n",
              "            &lt;meta name=&quot;viewport&quot; content=&quot;width=device-width,\n",
              "                initial-scale=1.0, maximum-scale=1.0, user-scalable=no&quot; /&gt;\n",
              "            &lt;style&gt;\n",
              "                #map_61999c98d76e12ca195e9c9d89888354 {\n",
              "                    position: relative;\n",
              "                    width: 100.0%;\n",
              "                    height: 100.0%;\n",
              "                    left: 0.0%;\n",
              "                    top: 0.0%;\n",
              "                }\n",
              "            &lt;/style&gt;\n",
              "        \n",
              "&lt;/head&gt;\n",
              "&lt;body&gt;    \n",
              "    \n",
              "            &lt;div class=&quot;folium-map&quot; id=&quot;map_61999c98d76e12ca195e9c9d89888354&quot; &gt;&lt;/div&gt;\n",
              "        \n",
              "&lt;/body&gt;\n",
              "&lt;script&gt;    \n",
              "    \n",
              "            var map_61999c98d76e12ca195e9c9d89888354 = L.map(\n",
              "                &quot;map_61999c98d76e12ca195e9c9d89888354&quot;,\n",
              "                {\n",
              "                    center: [0, 0],\n",
              "                    crs: L.CRS.EPSG3857,\n",
              "                    zoom: 1,\n",
              "                    zoomControl: true,\n",
              "                    preferCanvas: false,\n",
              "                }\n",
              "            );\n",
              "\n",
              "            \n",
              "\n",
              "        \n",
              "    \n",
              "            var tile_layer_943821dab931e344b3680e391235c41c = L.tileLayer(\n",
              "                &quot;https://{s}.tile.openstreetmap.org/{z}/{x}/{y}.png&quot;,\n",
              "                {&quot;attribution&quot;: &quot;Data by \\u0026copy; \\u003ca href=\\&quot;http://openstreetmap.org\\&quot;\\u003eOpenStreetMap\\u003c/a\\u003e, under \\u003ca href=\\&quot;http://www.openstreetmap.org/copyright\\&quot;\\u003eODbL\\u003c/a\\u003e.&quot;, &quot;detectRetina&quot;: false, &quot;maxNativeZoom&quot;: 18, &quot;maxZoom&quot;: 18, &quot;minZoom&quot;: 0, &quot;noWrap&quot;: false, &quot;opacity&quot;: 1, &quot;subdomains&quot;: &quot;abc&quot;, &quot;tms&quot;: false}\n",
              "            ).addTo(map_61999c98d76e12ca195e9c9d89888354);\n",
              "        \n",
              "    \n",
              "            var tile_layer_12b157d7e4f9c48bca994e4355158208 = L.tileLayer(\n",
              "                &quot;https://earthengine.googleapis.com/v1alpha/projects/earthengine-legacy/maps/b0815ec4362d04bf2abcddb9dfb78d9a-def1ae3a30e9b345daeb5cf55f46b3c1/tiles/{z}/{x}/{y}&quot;,\n",
              "                {&quot;attribution&quot;: &quot;Map Data \\u0026copy; \\u003ca href=\\&quot;https://earthengine.google.com/\\&quot;\\u003eGoogle Earth Engine\\u003c/a\\u003e&quot;, &quot;detectRetina&quot;: false, &quot;maxNativeZoom&quot;: 18, &quot;maxZoom&quot;: 18, &quot;minZoom&quot;: 0, &quot;noWrap&quot;: false, &quot;opacity&quot;: 1, &quot;subdomains&quot;: &quot;abc&quot;, &quot;tms&quot;: false}\n",
              "            ).addTo(map_61999c98d76e12ca195e9c9d89888354);\n",
              "        \n",
              "    \n",
              "\n",
              "        function geo_json_b9f9d23f39c9c3340589752549d8f535_onEachFeature(feature, layer) {\n",
              "            layer.on({\n",
              "            });\n",
              "        };\n",
              "        var geo_json_b9f9d23f39c9c3340589752549d8f535 = L.geoJson(null, {\n",
              "                onEachFeature: geo_json_b9f9d23f39c9c3340589752549d8f535_onEachFeature,\n",
              "            \n",
              "        });\n",
              "\n",
              "        function geo_json_b9f9d23f39c9c3340589752549d8f535_add (data) {\n",
              "            geo_json_b9f9d23f39c9c3340589752549d8f535\n",
              "                .addData(data)\n",
              "                .addTo(map_61999c98d76e12ca195e9c9d89888354);\n",
              "        }\n",
              "            geo_json_b9f9d23f39c9c3340589752549d8f535_add({&quot;coordinates&quot;: [[[-147.0109895905585, 65.99631782016581], [-146.87743968299105, 65.99619303424012], [-146.74389133391134, 65.99596266361652], [-146.61034585027264, 65.9956266948081], [-146.47680405916415, 65.995185101889], [-146.34326744173308, 65.99463791735553], [-146.2097366940007, 65.99398518906426], [-146.07621324809574, 65.99322683724986], [-145.94269762254075, 65.99236286705735], [-145.8091913382858, 65.99139343180109], [-145.6756951699909, 65.99031839496527], [-145.54221028594074, 65.98913782436719], [-145.4087376776765, 65.98785174457942], [-145.27527846673456, 65.986460110206], [-145.1418336840657, 65.98496306327158], [-145.00840444779516, 65.9833605606285], [-144.87499170196818, 65.98165251497812], [-144.86562194555506, 66.09370799301806], [-144.85617319329145, 66.20578362857451], [-144.9893662650725, 66.20755337140275], [-145.1225763585214, 66.2092188453697], [-145.2558028549579, 66.21078011273157], [-145.3890444319675, 66.21223705581933], [-145.3821227605183, 66.31976829954375], [-145.37514444833218, 66.42731967073357], [-145.36810886089523, 66.53489181876576], [-145.36101517471243, 66.64248534894337], [-145.35386291145613, 66.75010095706283], [-145.3466511333741, 66.85773943657438], [-145.33937915964177, 66.96540143964222], [-145.33204616118115, 67.0730876897923], [-145.5418977970671, 67.07505548644545], [-145.7517795033575, 67.07677261365231], [-145.9616872607717, 67.07823890522148], [-146.1716169035542, 67.0794542720531], [-146.38156430588938, 67.08041874689897], [-146.5915252865247, 67.08113225284525], [-146.80149615461522, 67.08159473275606], [-147.01147231686082, 67.08180633806298], [-147.01144101094346, 67.01389530833191], [-147.01140981372686, 66.94599423797646], [-147.01137880110716, 66.87810289054231], [-147.0113478671082, 66.81022098700198], [-147.01131732079202, 66.74234844914963], [-147.0112866160184, 66.67448510082582], [-147.01125632171568, 66.60663071859418], [-147.0112260750138, 66.5387851691659], [-147.01116595825312, 66.4031198134197], [-147.01110665429337, 66.2674877120806], [-147.0110478924999, 66.13188749073502], [-147.0109895905585, 65.99631782016581]]], &quot;type&quot;: &quot;Polygon&quot;});\n",
              "\n",
              "        \n",
              "&lt;/script&gt;\" style=\"position:absolute;width:100%;height:100%;left:0;top:0;border:none !important;\" allowfullscreen webkitallowfullscreen mozallowfullscreen></iframe></div></div>"
            ]
          },
          "metadata": {}
        }
      ],
      "source": [
        "## Visualize to double check ##\n",
        "\n",
        "# Define the visualization parameters.\n",
        "image_viz_params = {\n",
        "    'bands': ['B8', 'B3', 'B2'],\n",
        "    'min': 0,\n",
        "    'max': 3000,\n",
        "    'gamma': [0.95, 1.1, 1]\n",
        "}\n",
        "# Define a map centered on San Francisco Bay.\n",
        "map_l8 = folium.Map(zoom_start=10)\n",
        "# Add the image layer to the map and display it.\n",
        "map_l8.add_ee_layer(img, image_viz_params, 'true color composite')\n",
        "folium.GeoJson(roi.geometry().getInfo()).add_to(map_l8)\n",
        "display(map_l8)"
      ]
    },
    {
      "cell_type": "code",
      "source": [
        "totPixels.getInfo()"
      ],
      "metadata": {
        "colab": {
          "base_uri": "https://localhost:8080/"
        },
        "id": "DaMaP76MJjPq",
        "outputId": "00af4ce0-297d-46ef-8c4d-b02c1d8bb6fe"
      },
      "execution_count": null,
      "outputs": [
        {
          "output_type": "execute_result",
          "data": {
            "text/plain": [
              "1877334"
            ]
          },
          "metadata": {},
          "execution_count": 48
        }
      ]
    },
    {
      "cell_type": "code",
      "execution_count": null,
      "metadata": {
        "id": "OyYP-rm67h1U"
      },
      "outputs": [],
      "source": [
        "img.getInfo()"
      ]
    },
    {
      "cell_type": "code",
      "execution_count": null,
      "metadata": {
        "colab": {
          "base_uri": "https://localhost:8080/"
        },
        "id": "W8VSVAAoj4HO",
        "outputId": "0711ab68-e976-482c-a83a-ad63498836ce"
      },
      "outputs": [
        {
          "output_type": "stream",
          "name": "stdout",
          "text": [
            "Polling for task (id: 7T5PEUOEJ3E3IZJ6CYGFJAB6).\n",
            "Polling for task (id: 7T5PEUOEJ3E3IZJ6CYGFJAB6).\n",
            "Polling for task (id: 7T5PEUOEJ3E3IZJ6CYGFJAB6).\n",
            "Polling for task (id: 7T5PEUOEJ3E3IZJ6CYGFJAB6).\n",
            "Polling for task (id: 7T5PEUOEJ3E3IZJ6CYGFJAB6).\n",
            "Polling for task (id: 7T5PEUOEJ3E3IZJ6CYGFJAB6).\n",
            "Polling for task (id: 7T5PEUOEJ3E3IZJ6CYGFJAB6).\n",
            "Polling for task (id: 7T5PEUOEJ3E3IZJ6CYGFJAB6).\n",
            "Polling for task (id: 7T5PEUOEJ3E3IZJ6CYGFJAB6).\n",
            "Polling for task (id: 7T5PEUOEJ3E3IZJ6CYGFJAB6).\n",
            "Polling for task (id: 7T5PEUOEJ3E3IZJ6CYGFJAB6).\n",
            "Polling for task (id: 7T5PEUOEJ3E3IZJ6CYGFJAB6).\n",
            "Polling for task (id: 7T5PEUOEJ3E3IZJ6CYGFJAB6).\n",
            "Polling for task (id: 7T5PEUOEJ3E3IZJ6CYGFJAB6).\n",
            "Polling for task (id: 7T5PEUOEJ3E3IZJ6CYGFJAB6).\n",
            "Polling for task (id: 7T5PEUOEJ3E3IZJ6CYGFJAB6).\n",
            "Polling for task (id: 7T5PEUOEJ3E3IZJ6CYGFJAB6).\n",
            "Polling for task (id: 7T5PEUOEJ3E3IZJ6CYGFJAB6).\n",
            "Polling for task (id: 7T5PEUOEJ3E3IZJ6CYGFJAB6).\n",
            "Polling for task (id: 7T5PEUOEJ3E3IZJ6CYGFJAB6).\n",
            "Polling for task (id: 7T5PEUOEJ3E3IZJ6CYGFJAB6).\n",
            "Polling for task (id: 7T5PEUOEJ3E3IZJ6CYGFJAB6).\n",
            "Polling for task (id: 7T5PEUOEJ3E3IZJ6CYGFJAB6).\n",
            "Polling for task (id: 7T5PEUOEJ3E3IZJ6CYGFJAB6).\n",
            "Polling for task (id: 7T5PEUOEJ3E3IZJ6CYGFJAB6).\n",
            "Polling for task (id: 7T5PEUOEJ3E3IZJ6CYGFJAB6).\n",
            "Polling for task (id: 7T5PEUOEJ3E3IZJ6CYGFJAB6).\n",
            "Polling for task (id: 7T5PEUOEJ3E3IZJ6CYGFJAB6).\n",
            "Polling for task (id: 7T5PEUOEJ3E3IZJ6CYGFJAB6).\n",
            "Polling for task (id: 7T5PEUOEJ3E3IZJ6CYGFJAB6).\n",
            "Polling for task (id: 7T5PEUOEJ3E3IZJ6CYGFJAB6).\n",
            "Polling for task (id: 7T5PEUOEJ3E3IZJ6CYGFJAB6).\n",
            "Polling for task (id: 7T5PEUOEJ3E3IZJ6CYGFJAB6).\n",
            "Polling for task (id: 7T5PEUOEJ3E3IZJ6CYGFJAB6).\n",
            "Polling for task (id: 7T5PEUOEJ3E3IZJ6CYGFJAB6).\n",
            "Polling for task (id: 7T5PEUOEJ3E3IZJ6CYGFJAB6).\n",
            "Polling for task (id: 7T5PEUOEJ3E3IZJ6CYGFJAB6).\n",
            "Polling for task (id: 7T5PEUOEJ3E3IZJ6CYGFJAB6).\n",
            "Polling for task (id: 7T5PEUOEJ3E3IZJ6CYGFJAB6).\n",
            "Polling for task (id: 7T5PEUOEJ3E3IZJ6CYGFJAB6).\n",
            "Polling for task (id: 7T5PEUOEJ3E3IZJ6CYGFJAB6).\n",
            "Polling for task (id: 7T5PEUOEJ3E3IZJ6CYGFJAB6).\n",
            "Polling for task (id: 7T5PEUOEJ3E3IZJ6CYGFJAB6).\n",
            "Polling for task (id: 7T5PEUOEJ3E3IZJ6CYGFJAB6).\n",
            "Polling for task (id: 7T5PEUOEJ3E3IZJ6CYGFJAB6).\n",
            "Polling for task (id: 7T5PEUOEJ3E3IZJ6CYGFJAB6).\n",
            "Polling for task (id: 7T5PEUOEJ3E3IZJ6CYGFJAB6).\n",
            "Polling for task (id: 7T5PEUOEJ3E3IZJ6CYGFJAB6).\n",
            "Polling for task (id: 7T5PEUOEJ3E3IZJ6CYGFJAB6).\n",
            "Polling for task (id: 7T5PEUOEJ3E3IZJ6CYGFJAB6).\n",
            "Polling for task (id: 7T5PEUOEJ3E3IZJ6CYGFJAB6).\n",
            "Polling for task (id: 7T5PEUOEJ3E3IZJ6CYGFJAB6).\n",
            "Polling for task (id: 7T5PEUOEJ3E3IZJ6CYGFJAB6).\n",
            "Polling for task (id: 7T5PEUOEJ3E3IZJ6CYGFJAB6).\n",
            "Polling for task (id: 7T5PEUOEJ3E3IZJ6CYGFJAB6).\n",
            "Polling for task (id: 7T5PEUOEJ3E3IZJ6CYGFJAB6).\n",
            "Polling for task (id: 7T5PEUOEJ3E3IZJ6CYGFJAB6).\n",
            "Polling for task (id: 7T5PEUOEJ3E3IZJ6CYGFJAB6).\n",
            "Polling for task (id: 7T5PEUOEJ3E3IZJ6CYGFJAB6).\n",
            "Polling for task (id: 7T5PEUOEJ3E3IZJ6CYGFJAB6).\n",
            "Polling for task (id: 7T5PEUOEJ3E3IZJ6CYGFJAB6).\n",
            "Polling for task (id: 7T5PEUOEJ3E3IZJ6CYGFJAB6).\n",
            "Polling for task (id: 7T5PEUOEJ3E3IZJ6CYGFJAB6).\n",
            "Polling for task (id: 7T5PEUOEJ3E3IZJ6CYGFJAB6).\n",
            "Polling for task (id: 7T5PEUOEJ3E3IZJ6CYGFJAB6).\n",
            "Polling for task (id: 7T5PEUOEJ3E3IZJ6CYGFJAB6).\n",
            "Polling for task (id: 7T5PEUOEJ3E3IZJ6CYGFJAB6).\n",
            "Polling for task (id: 7T5PEUOEJ3E3IZJ6CYGFJAB6).\n",
            "Polling for task (id: 7T5PEUOEJ3E3IZJ6CYGFJAB6).\n",
            "Polling for task (id: 7T5PEUOEJ3E3IZJ6CYGFJAB6).\n",
            "Polling for task (id: 7T5PEUOEJ3E3IZJ6CYGFJAB6).\n",
            "Polling for task (id: 7T5PEUOEJ3E3IZJ6CYGFJAB6).\n",
            "Polling for task (id: 7T5PEUOEJ3E3IZJ6CYGFJAB6).\n",
            "Polling for task (id: 7T5PEUOEJ3E3IZJ6CYGFJAB6).\n",
            "Polling for task (id: 7T5PEUOEJ3E3IZJ6CYGFJAB6).\n",
            "Polling for task (id: 7T5PEUOEJ3E3IZJ6CYGFJAB6).\n",
            "Polling for task (id: 7T5PEUOEJ3E3IZJ6CYGFJAB6).\n",
            "Polling for task (id: 7T5PEUOEJ3E3IZJ6CYGFJAB6).\n",
            "Polling for task (id: 7T5PEUOEJ3E3IZJ6CYGFJAB6).\n",
            "Polling for task (id: 7T5PEUOEJ3E3IZJ6CYGFJAB6).\n",
            "Polling for task (id: 7T5PEUOEJ3E3IZJ6CYGFJAB6).\n",
            "Polling for task (id: 7T5PEUOEJ3E3IZJ6CYGFJAB6).\n",
            "Polling for task (id: 7T5PEUOEJ3E3IZJ6CYGFJAB6).\n",
            "Polling for task (id: 7T5PEUOEJ3E3IZJ6CYGFJAB6).\n",
            "Polling for task (id: 7T5PEUOEJ3E3IZJ6CYGFJAB6).\n",
            "Polling for task (id: 7T5PEUOEJ3E3IZJ6CYGFJAB6).\n",
            "Polling for task (id: 7T5PEUOEJ3E3IZJ6CYGFJAB6).\n",
            "Polling for task (id: 7T5PEUOEJ3E3IZJ6CYGFJAB6).\n",
            "Polling for task (id: 7T5PEUOEJ3E3IZJ6CYGFJAB6).\n",
            "Polling for task (id: 7T5PEUOEJ3E3IZJ6CYGFJAB6).\n",
            "Polling for task (id: 7T5PEUOEJ3E3IZJ6CYGFJAB6).\n",
            "Polling for task (id: 7T5PEUOEJ3E3IZJ6CYGFJAB6).\n",
            "Polling for task (id: 7T5PEUOEJ3E3IZJ6CYGFJAB6).\n",
            "Polling for task (id: 7T5PEUOEJ3E3IZJ6CYGFJAB6).\n",
            "Polling for task (id: 7T5PEUOEJ3E3IZJ6CYGFJAB6).\n",
            "Polling for task (id: 7T5PEUOEJ3E3IZJ6CYGFJAB6).\n",
            "Polling for task (id: 7T5PEUOEJ3E3IZJ6CYGFJAB6).\n",
            "Polling for task (id: 7T5PEUOEJ3E3IZJ6CYGFJAB6).\n",
            "Polling for task (id: 7T5PEUOEJ3E3IZJ6CYGFJAB6).\n",
            "Polling for task (id: 7T5PEUOEJ3E3IZJ6CYGFJAB6).\n",
            "Polling for task (id: 7T5PEUOEJ3E3IZJ6CYGFJAB6).\n",
            "Polling for task (id: 7T5PEUOEJ3E3IZJ6CYGFJAB6).\n",
            "Polling for task (id: 7T5PEUOEJ3E3IZJ6CYGFJAB6).\n",
            "Polling for task (id: 7T5PEUOEJ3E3IZJ6CYGFJAB6).\n",
            "Polling for task (id: 7T5PEUOEJ3E3IZJ6CYGFJAB6).\n",
            "Polling for task (id: 7T5PEUOEJ3E3IZJ6CYGFJAB6).\n",
            "Polling for task (id: 7T5PEUOEJ3E3IZJ6CYGFJAB6).\n",
            "Polling for task (id: 7T5PEUOEJ3E3IZJ6CYGFJAB6).\n",
            "Polling for task (id: 7T5PEUOEJ3E3IZJ6CYGFJAB6).\n",
            "Polling for task (id: 7T5PEUOEJ3E3IZJ6CYGFJAB6).\n",
            "Polling for task (id: 7T5PEUOEJ3E3IZJ6CYGFJAB6).\n",
            "Polling for task (id: 7T5PEUOEJ3E3IZJ6CYGFJAB6).\n",
            "Polling for task (id: 7T5PEUOEJ3E3IZJ6CYGFJAB6).\n",
            "Polling for task (id: 7T5PEUOEJ3E3IZJ6CYGFJAB6).\n",
            "Polling for task (id: 7T5PEUOEJ3E3IZJ6CYGFJAB6).\n",
            "Polling for task (id: 7T5PEUOEJ3E3IZJ6CYGFJAB6).\n",
            "Polling for task (id: 7T5PEUOEJ3E3IZJ6CYGFJAB6).\n",
            "Polling for task (id: 7T5PEUOEJ3E3IZJ6CYGFJAB6).\n",
            "Polling for task (id: 7T5PEUOEJ3E3IZJ6CYGFJAB6).\n",
            "Polling for task (id: 7T5PEUOEJ3E3IZJ6CYGFJAB6).\n",
            "Polling for task (id: 7T5PEUOEJ3E3IZJ6CYGFJAB6).\n",
            "Polling for task (id: 7T5PEUOEJ3E3IZJ6CYGFJAB6).\n",
            "Polling for task (id: 7T5PEUOEJ3E3IZJ6CYGFJAB6).\n",
            "Polling for task (id: 7T5PEUOEJ3E3IZJ6CYGFJAB6).\n",
            "Polling for task (id: 7T5PEUOEJ3E3IZJ6CYGFJAB6).\n",
            "Polling for task (id: 7T5PEUOEJ3E3IZJ6CYGFJAB6).\n",
            "Polling for task (id: 7T5PEUOEJ3E3IZJ6CYGFJAB6).\n",
            "Polling for task (id: 7T5PEUOEJ3E3IZJ6CYGFJAB6).\n",
            "Polling for task (id: 7T5PEUOEJ3E3IZJ6CYGFJAB6).\n",
            "Polling for task (id: 7T5PEUOEJ3E3IZJ6CYGFJAB6).\n",
            "Polling for task (id: 7T5PEUOEJ3E3IZJ6CYGFJAB6).\n",
            "Polling for task (id: 7T5PEUOEJ3E3IZJ6CYGFJAB6).\n",
            "Polling for task (id: 7T5PEUOEJ3E3IZJ6CYGFJAB6).\n",
            "Polling for task (id: 7T5PEUOEJ3E3IZJ6CYGFJAB6).\n",
            "Polling for task (id: 7T5PEUOEJ3E3IZJ6CYGFJAB6).\n",
            "Polling for task (id: 7T5PEUOEJ3E3IZJ6CYGFJAB6).\n",
            "Polling for task (id: 7T5PEUOEJ3E3IZJ6CYGFJAB6).\n",
            "Polling for task (id: 7T5PEUOEJ3E3IZJ6CYGFJAB6).\n",
            "Polling for task (id: 7T5PEUOEJ3E3IZJ6CYGFJAB6).\n",
            "Polling for task (id: 7T5PEUOEJ3E3IZJ6CYGFJAB6).\n",
            "Polling for task (id: 7T5PEUOEJ3E3IZJ6CYGFJAB6).\n",
            "Polling for task (id: 7T5PEUOEJ3E3IZJ6CYGFJAB6).\n",
            "Polling for task (id: 7T5PEUOEJ3E3IZJ6CYGFJAB6).\n",
            "Polling for task (id: 7T5PEUOEJ3E3IZJ6CYGFJAB6).\n",
            "Polling for task (id: 7T5PEUOEJ3E3IZJ6CYGFJAB6).\n",
            "Polling for task (id: 7T5PEUOEJ3E3IZJ6CYGFJAB6).\n",
            "Polling for task (id: 7T5PEUOEJ3E3IZJ6CYGFJAB6).\n",
            "Polling for task (id: 7T5PEUOEJ3E3IZJ6CYGFJAB6).\n",
            "Polling for task (id: 7T5PEUOEJ3E3IZJ6CYGFJAB6).\n",
            "Polling for task (id: 7T5PEUOEJ3E3IZJ6CYGFJAB6).\n",
            "Polling for task (id: 7T5PEUOEJ3E3IZJ6CYGFJAB6).\n",
            "Polling for task (id: 7T5PEUOEJ3E3IZJ6CYGFJAB6).\n",
            "Polling for task (id: 7T5PEUOEJ3E3IZJ6CYGFJAB6).\n",
            "Polling for task (id: 7T5PEUOEJ3E3IZJ6CYGFJAB6).\n",
            "Polling for task (id: 7T5PEUOEJ3E3IZJ6CYGFJAB6).\n",
            "Polling for task (id: 7T5PEUOEJ3E3IZJ6CYGFJAB6).\n",
            "Polling for task (id: 7T5PEUOEJ3E3IZJ6CYGFJAB6).\n",
            "Polling for task (id: 7T5PEUOEJ3E3IZJ6CYGFJAB6).\n",
            "Polling for task (id: 7T5PEUOEJ3E3IZJ6CYGFJAB6).\n",
            "Polling for task (id: 7T5PEUOEJ3E3IZJ6CYGFJAB6).\n",
            "Polling for task (id: 7T5PEUOEJ3E3IZJ6CYGFJAB6).\n",
            "Polling for task (id: 7T5PEUOEJ3E3IZJ6CYGFJAB6).\n",
            "Polling for task (id: 7T5PEUOEJ3E3IZJ6CYGFJAB6).\n",
            "Polling for task (id: 7T5PEUOEJ3E3IZJ6CYGFJAB6).\n",
            "Polling for task (id: 7T5PEUOEJ3E3IZJ6CYGFJAB6).\n",
            "Polling for task (id: 7T5PEUOEJ3E3IZJ6CYGFJAB6).\n",
            "Polling for task (id: 7T5PEUOEJ3E3IZJ6CYGFJAB6).\n",
            "Polling for task (id: 7T5PEUOEJ3E3IZJ6CYGFJAB6).\n",
            "Polling for task (id: 7T5PEUOEJ3E3IZJ6CYGFJAB6).\n",
            "Polling for task (id: 7T5PEUOEJ3E3IZJ6CYGFJAB6).\n"
          ]
        }
      ],
      "source": [
        "# Exporting asset to drive example (region could be specified)\n",
        "task = ee.batch.Export.image.toDrive(**{\n",
        "    'image': img,\n",
        "    'description': filename,\n",
        "    'folder':'S2mosaics',\n",
        "    'fileFormat': 'GeoTIFF',\n",
        "    'scale': 10,\n",
        "    'region': polygon,\n",
        "    'maxPixels': 1e12\n",
        "})\n",
        "task.start()\n",
        "import time \n",
        "while task.active():\n",
        "  print('Polling for task (id: {}).'.format(task.id))\n",
        "  time.sleep(5)"
      ]
    },
    {
      "cell_type": "code",
      "execution_count": null,
      "metadata": {
        "id": "KzdWUH7FLOHo"
      },
      "outputs": [],
      "source": [
        "# Second method...composite of best images per month\n",
        "start = '2020-07-01'\n",
        "finish = '2020-07-31'\n",
        "eestart = ee.Date(start)\n",
        "eefinish = ee.Date(finish)\n",
        "coverage = 75 # ratio of roi covered in clear pixels\n",
        "## Image Pre-Processing KEEP THIS ORIGINAL\n",
        "images = ee.ImageCollection('COPERNICUS/S2').filterBounds(roi).filterDate(start,finish).filter(ee.Filter.lt('CLOUDY_PIXEL_PERCENTAGE',50)) # Get Images\n",
        "images_all = mosaicBy(images) # Mosaic images\n",
        "images_all = images_all.map(maskS2clouds) # Create cloud/clear masks\n",
        "images_all = images_all.map(clip_image) # Clip to roi\n",
        "images_all = images_all.map(applyMask) # mask other bands that are cloudy\n",
        "image_mask = images.select('B2').mean().clip(roi).gte(0) #First, calculate total number of pixels\n",
        "totPixels = ee.Number(image_mask.reduceRegion(\n",
        "    reducer = ee.Reducer.count(),\n",
        "    scale = 100,\n",
        "    geometry = roi,\n",
        "    maxPixels = 1e12\n",
        "    ).values().get(0))\n",
        "images_all = images_all.map(getCover) # Add percent cover as an image property\n",
        "images_all = images_all.filterMetadata('percCover','greater_than', coverage) # remove images covering less than 50% of the ROI)\n",
        "images_all = images_all.map(selectBands) # reduce to bgrn bands\n",
        "#percCovers = images_all.aggregate_array('percCover').getInfo() # get non EE list of percent covers\n",
        "#bestCovers = percCovers[0:3] # Top 3 percentages\n",
        "#best_images = images_all.filterMetadata('percCover','equals',bestCovers) # THIS ISNT WORKING\n",
        "img = images_all.reduce(ee.Reducer.median()) # Median composite of best 3 images\n",
        "date = start[0:7]\n",
        "date = date.replace('-','')\n",
        "filename = str(date+'_ykd_BGRN_SR')"
      ]
    },
    {
      "cell_type": "code",
      "execution_count": null,
      "metadata": {
        "id": "UKYrwZ5z6wKo"
      },
      "outputs": [],
      "source": [
        "## Visualize to double check ##\n",
        "\n",
        "# Define the visualization parameters.\n",
        "image_viz_params = {\n",
        "    'bands': ['B8_median', 'B3_median', 'B2_median'],\n",
        "    'min': 0,\n",
        "    'max': 3000,\n",
        "    'gamma': [0.95, 1.1, 1]\n",
        "}\n",
        "# Define a map centered on San Francisco Bay.\n",
        "map_l8 = folium.Map(zoom_start=10)\n",
        "# Add the image layer to the map and display it.\n",
        "map_l8.add_ee_layer(img, image_viz_params, 'true color composite')\n",
        "folium.GeoJson(roi.geometry().getInfo()).add_to(map_l8)\n",
        "display(map_l8)"
      ]
    },
    {
      "cell_type": "code",
      "execution_count": null,
      "metadata": {
        "id": "xP-1E4VdkeOM"
      },
      "outputs": [],
      "source": [
        "# ************Assemble a feature collection of images I want and then loop through the export************"
      ]
    }
  ],
  "metadata": {
    "colab": {
      "collapsed_sections": [],
      "provenance": [],
      "authorship_tag": "ABX9TyP1rYImMt9XMdAcsVwFTMKz",
      "include_colab_link": true
    },
    "gpuClass": "standard",
    "kernelspec": {
      "display_name": "Python 3",
      "name": "python3"
    },
    "language_info": {
      "name": "python"
    }
  },
  "nbformat": 4,
  "nbformat_minor": 0
}