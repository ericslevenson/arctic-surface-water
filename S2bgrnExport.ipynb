{
  "cells": [
    {
      "cell_type": "markdown",
      "metadata": {
        "id": "view-in-github",
        "colab_type": "text"
      },
      "source": [
        "<a href=\"https://colab.research.google.com/github/ericslevenson/arctic-surface-water/blob/main/S2bgrnExport.ipynb\" target=\"_parent\"><img src=\"https://colab.research.google.com/assets/colab-badge.svg\" alt=\"Open In Colab\"/></a>"
      ]
    },
    {
      "cell_type": "code",
      "execution_count": null,
      "metadata": {
        "id": "E7WaeGOc4RLD"
      },
      "outputs": [],
      "source": [
        "'''\n",
        "author: ericslevenson\n",
        "\n",
        "Earth Engine Script to rapidly filter and visualize Sentinel-2 images to provide\n",
        "image inputs to the UNET component of LakeScan.\n",
        "\n",
        "NOTE: images are either exported from GEE directly to drive, or the 'PRODUCT_ID' \n",
        "can be recorded for batch downloads\n",
        "'''"
      ]
    },
    {
      "cell_type": "code",
      "execution_count": null,
      "metadata": {
        "id": "VkCNuGHfx148"
      },
      "outputs": [],
      "source": [
        "# Authenticate private account (only required for exporting to drive/gee/gcp)\n",
        "from google.colab import auth \n",
        "auth.authenticate_user()\n",
        "\n",
        "# Earth Engine setup\n",
        "import ee # Trigger the authentication flow.\n",
        "ee.Authenticate()\n",
        "ee.Initialize() # Initialize the library.\n",
        "\n",
        "# Google Drive setup (if needed)\n",
        "from google.colab import drive\n",
        "drive.mount('/content/drive')\n",
        "\n",
        "# Some common imports\n",
        "from IPython.display import Image\n",
        "import folium"
      ]
    },
    {
      "cell_type": "code",
      "execution_count": null,
      "metadata": {
        "id": "0lZJwd8hyyIL"
      },
      "outputs": [],
      "source": [
        "## ***IMAGE PROCESSING METHODS***\n",
        "\n",
        "# Mask clouds in Sentinel-2\n",
        "def maskS2clouds(image):\n",
        "  '''Takes an input and adds two bands: cloud mask and clear mask'''\n",
        "  qa = image.select('QA60')\n",
        "  cloudBitMask = 1 << 10\n",
        "  cirrusBitMask = 1 << 11\n",
        "  clear_mask = qa.bitwiseAnd(cloudBitMask).eq(0).And(qa.bitwiseAnd(cirrusBitMask).eq(0)).rename('clear_mask')\n",
        "  cloud_mask = qa.bitwiseAnd(cloudBitMask).eq(1).And(qa.bitwiseAnd(cirrusBitMask).eq(1)).rename('cloud_mask')\n",
        "  return image.addBands([cloud_mask,clear_mask])\n",
        "\n",
        "# Apply cloud mask to other bands\n",
        "def applyMask(image):\n",
        "  img = image.updateMask(image.select('clear_mask'))\n",
        "  return img\n",
        "\n",
        "# Clip image\n",
        "def clip_image(image):\n",
        "  '''Clips to the roi defined at the beginning of the script'''\n",
        "  return image.clip(roi)\n",
        "\n",
        "# Get percentile cover   \n",
        "def getCover(image):\n",
        "  '''calculates percentage of the roi covered by the clear mask. NOTE: this function\n",
        "  calls the global totPixels variable that needs to be calculated in the main script.'''\n",
        "  actArea = ee.Number(image.updateMask(image.select('B2')).reduceRegion(\n",
        "      reducer = ee.Reducer.count(),\n",
        "      scale = 100,\n",
        "      maxPixels=1e12,\n",
        "      ).values().get(0)).multiply(10000)\n",
        "  # calculate the perc of cover OF CLEAR PIXELS \n",
        "  percCover = actArea.divide(area).multiply(100)\n",
        "  # number as output\n",
        "  return image.set('percCover', percCover,'actArea',actArea)\n",
        "\n",
        "# Select bgrn bands\n",
        "def selectBands(image):\n",
        "  img = image.select(['B2', 'B3', 'B4', 'B8'])\n",
        "  return img\n",
        "\n",
        "def getDims(image):\n",
        "  dimensions = img.select('B2').getInfo().get('bands')[0].get('dimensions')\n",
        "  return image.set('dims', dimensions)\n",
        "\n",
        "def add_ee_layer(self, ee_image_object, vis_params, name):\n",
        "  map_id_dict = ee.Image(ee_image_object).getMapId(vis_params)\n",
        "  folium.raster_layers.TileLayer(\n",
        "      tiles=map_id_dict['tile_fetcher'].url_format,\n",
        "      attr='Map Data &copy; <a href=\"https://earthengine.google.com/\">Google Earth Engine</a>',\n",
        "      name=name,\n",
        "      overlay=True,\n",
        "      control=True\n",
        "  ).add_to(self)\n",
        "\n",
        "folium.Map.add_ee_layer = add_ee_layer"
      ]
    },
    {
      "cell_type": "code",
      "execution_count": 220,
      "metadata": {
        "id": "JsGN1f3WzDpR"
      },
      "outputs": [],
      "source": [
        "# *** User inputs to customize Sentinel-2 Tile (i.e. roi), time period, and clear sky threshold ***\n",
        "tiles = ee.FeatureCollection('projects/ee-eric-levenson/assets/ArcticAKaois/S2Tiles_AK_4N') # import Sentinel-2 tiles as a GEE Feature Collection\n",
        "tile = '04WDA' # Tile of interest...this defines the ROI\n",
        "roi = tiles.filter(ee.Filter.eq('Name', tile)).first() \n",
        "start = '2016-05-10'\n",
        "finish = '2016-09-15'\n",
        "# Customize month range of interest (1 = January, etc.)\n",
        "startMonth = 6\n",
        "finishMonth = 8\n",
        "eestart = ee.Date(start)\n",
        "eefinish = ee.Date(finish)\n",
        "# clear roi percentage threshold\n",
        "coverage = 90 \n",
        "\n",
        "## ***Image Processing...don't edit***\n",
        "images = ee.ImageCollection('COPERNICUS/S2').filterBounds(roi.geometry()).filter(ee.Filter.equals('MGRS_TILE',tile)).filterDate(start,finish).filter(ee.Filter.calendarRange(startMonth, finishMonth, 'month')).filter(ee.Filter.lt('CLOUDY_PIXEL_PERCENTAGE',50)) # Get Images\n",
        "images_all = images.map(maskS2clouds) # Create cloud/clear masks\n",
        "images_all = images_all.map(clip_image) # Clip to roi\n",
        "images_all = images_all.map(applyMask) # mask other bands for clouds\n",
        "area = roi.geometry().area().getInfo() # Calculate total area\n",
        "images_all = images_all.map(getCover) # Calculate percent cover and add as an image property\n",
        "images_all = images_all.filterMetadata('percCover','greater_than', coverage) # remove images covering less than given threshold)\n",
        "images_all = images_all.map(selectBands) # reduce to bgrn bands\n",
        "percCovers = images_all.aggregate_array('percCover').getInfo() # get non EE list of percent covers\n",
        "maxim = max(percCovers) # get maximum percent cover\n",
        "best_image = images_all.filterMetadata('percCover','equals',maxim) # get image with max percent cover\n",
        "img = ee.Image(best_image.first())\n",
        "date = img.getInfo()['id'].split('/')[2].split('_')[0][:8] # get date for export\n",
        "filename = str(date+'_'+tile+'_BGRN_SR') # create filename string"
      ]
    },
    {
      "cell_type": "code",
      "execution_count": 221,
      "metadata": {
        "colab": {
          "base_uri": "https://localhost:8080/"
        },
        "id": "IizcoI401hnY",
        "outputId": "bc012c0a-31bc-4740-bcf8-616dc42240fa"
      },
      "outputs": [
        {
          "output_type": "execute_result",
          "data": {
            "text/plain": [
              "[90.76783174515893,\n",
              " 90.76783174515893,\n",
              " 98.35584751159762,\n",
              " 98.35584751159762,\n",
              " 95.19059241142726,\n",
              " 95.19059241142726,\n",
              " 100.25316443162853,\n",
              " 100.25316443162853]"
            ]
          },
          "metadata": {},
          "execution_count": 221
        }
      ],
      "source": [
        "percCovers # Print the list of coverage percentages for the time period"
      ]
    },
    {
      "cell_type": "code",
      "execution_count": 222,
      "metadata": {
        "colab": {
          "base_uri": "https://localhost:8080/",
          "height": 35
        },
        "id": "KZmtAmau4jmM",
        "outputId": "a60854f5-5d2a-4caf-b9d0-34173f97fc18"
      },
      "outputs": [
        {
          "output_type": "execute_result",
          "data": {
            "text/plain": [
              "'20160829_04WDA_BGRN_SR'"
            ],
            "application/vnd.google.colaboratory.intrinsic+json": {
              "type": "string"
            }
          },
          "metadata": {},
          "execution_count": 222
        }
      ],
      "source": [
        "filename # Print the filename of the clearest image, which includes the date"
      ]
    },
    {
      "cell_type": "code",
      "execution_count": 223,
      "metadata": {
        "colab": {
          "base_uri": "https://localhost:8080/",
          "height": 968
        },
        "id": "a19vgTLKCPsT",
        "outputId": "f2ee4692-412e-445a-899a-273630399434"
      },
      "outputs": [
        {
          "output_type": "display_data",
          "data": {
            "text/plain": [
              "<folium.folium.Map at 0x7fed73e84b10>"
            ],
            "text/html": [
              "<div style=\"width:100%;\"><div style=\"position:relative;width:100%;height:0;padding-bottom:60%;\"><span style=\"color:#565656\">Make this Notebook Trusted to load map: File -> Trust Notebook</span><iframe srcdoc=\"&lt;!DOCTYPE html&gt;\n",
              "&lt;head&gt;    \n",
              "    &lt;meta http-equiv=&quot;content-type&quot; content=&quot;text/html; charset=UTF-8&quot; /&gt;\n",
              "    \n",
              "        &lt;script&gt;\n",
              "            L_NO_TOUCH = false;\n",
              "            L_DISABLE_3D = false;\n",
              "        &lt;/script&gt;\n",
              "    \n",
              "    &lt;style&gt;html, body {width: 100%;height: 100%;margin: 0;padding: 0;}&lt;/style&gt;\n",
              "    &lt;style&gt;#map {position:absolute;top:0;bottom:0;right:0;left:0;}&lt;/style&gt;\n",
              "    &lt;script src=&quot;https://cdn.jsdelivr.net/npm/leaflet@1.6.0/dist/leaflet.js&quot;&gt;&lt;/script&gt;\n",
              "    &lt;script src=&quot;https://code.jquery.com/jquery-1.12.4.min.js&quot;&gt;&lt;/script&gt;\n",
              "    &lt;script src=&quot;https://maxcdn.bootstrapcdn.com/bootstrap/3.2.0/js/bootstrap.min.js&quot;&gt;&lt;/script&gt;\n",
              "    &lt;script src=&quot;https://cdnjs.cloudflare.com/ajax/libs/Leaflet.awesome-markers/2.0.2/leaflet.awesome-markers.js&quot;&gt;&lt;/script&gt;\n",
              "    &lt;link rel=&quot;stylesheet&quot; href=&quot;https://cdn.jsdelivr.net/npm/leaflet@1.6.0/dist/leaflet.css&quot;/&gt;\n",
              "    &lt;link rel=&quot;stylesheet&quot; href=&quot;https://maxcdn.bootstrapcdn.com/bootstrap/3.2.0/css/bootstrap.min.css&quot;/&gt;\n",
              "    &lt;link rel=&quot;stylesheet&quot; href=&quot;https://maxcdn.bootstrapcdn.com/bootstrap/3.2.0/css/bootstrap-theme.min.css&quot;/&gt;\n",
              "    &lt;link rel=&quot;stylesheet&quot; href=&quot;https://maxcdn.bootstrapcdn.com/font-awesome/4.6.3/css/font-awesome.min.css&quot;/&gt;\n",
              "    &lt;link rel=&quot;stylesheet&quot; href=&quot;https://cdnjs.cloudflare.com/ajax/libs/Leaflet.awesome-markers/2.0.2/leaflet.awesome-markers.css&quot;/&gt;\n",
              "    &lt;link rel=&quot;stylesheet&quot; href=&quot;https://cdn.jsdelivr.net/gh/python-visualization/folium/folium/templates/leaflet.awesome.rotate.min.css&quot;/&gt;\n",
              "    \n",
              "            &lt;meta name=&quot;viewport&quot; content=&quot;width=device-width,\n",
              "                initial-scale=1.0, maximum-scale=1.0, user-scalable=no&quot; /&gt;\n",
              "            &lt;style&gt;\n",
              "                #map_1151fb2fbf913f4841f1478c451cf966 {\n",
              "                    position: relative;\n",
              "                    width: 100.0%;\n",
              "                    height: 100.0%;\n",
              "                    left: 0.0%;\n",
              "                    top: 0.0%;\n",
              "                }\n",
              "            &lt;/style&gt;\n",
              "        \n",
              "&lt;/head&gt;\n",
              "&lt;body&gt;    \n",
              "    \n",
              "            &lt;div class=&quot;folium-map&quot; id=&quot;map_1151fb2fbf913f4841f1478c451cf966&quot; &gt;&lt;/div&gt;\n",
              "        \n",
              "&lt;/body&gt;\n",
              "&lt;script&gt;    \n",
              "    \n",
              "            var map_1151fb2fbf913f4841f1478c451cf966 = L.map(\n",
              "                &quot;map_1151fb2fbf913f4841f1478c451cf966&quot;,\n",
              "                {\n",
              "                    center: [0, 0],\n",
              "                    crs: L.CRS.EPSG3857,\n",
              "                    zoom: 1,\n",
              "                    zoomControl: true,\n",
              "                    preferCanvas: false,\n",
              "                }\n",
              "            );\n",
              "\n",
              "            \n",
              "\n",
              "        \n",
              "    \n",
              "            var tile_layer_ed24e79f2830d09d93389d2171d28d57 = L.tileLayer(\n",
              "                &quot;https://{s}.tile.openstreetmap.org/{z}/{x}/{y}.png&quot;,\n",
              "                {&quot;attribution&quot;: &quot;Data by \\u0026copy; \\u003ca href=\\&quot;http://openstreetmap.org\\&quot;\\u003eOpenStreetMap\\u003c/a\\u003e, under \\u003ca href=\\&quot;http://www.openstreetmap.org/copyright\\&quot;\\u003eODbL\\u003c/a\\u003e.&quot;, &quot;detectRetina&quot;: false, &quot;maxNativeZoom&quot;: 18, &quot;maxZoom&quot;: 18, &quot;minZoom&quot;: 0, &quot;noWrap&quot;: false, &quot;opacity&quot;: 1, &quot;subdomains&quot;: &quot;abc&quot;, &quot;tms&quot;: false}\n",
              "            ).addTo(map_1151fb2fbf913f4841f1478c451cf966);\n",
              "        \n",
              "    \n",
              "            var tile_layer_ee15a4c857ef397a9b1d027aa4b8ba84 = L.tileLayer(\n",
              "                &quot;https://earthengine.googleapis.com/v1alpha/projects/earthengine-legacy/maps/fc18253d27d909612a9c9360cc67e8c3-77b5da4671ba538fa89473de569ee576/tiles/{z}/{x}/{y}&quot;,\n",
              "                {&quot;attribution&quot;: &quot;Map Data \\u0026copy; \\u003ca href=\\&quot;https://earthengine.google.com/\\&quot;\\u003eGoogle Earth Engine\\u003c/a\\u003e&quot;, &quot;detectRetina&quot;: false, &quot;maxNativeZoom&quot;: 18, &quot;maxZoom&quot;: 18, &quot;minZoom&quot;: 0, &quot;noWrap&quot;: false, &quot;opacity&quot;: 1, &quot;subdomains&quot;: &quot;abc&quot;, &quot;tms&quot;: false}\n",
              "            ).addTo(map_1151fb2fbf913f4841f1478c451cf966);\n",
              "        \n",
              "    \n",
              "\n",
              "        function geo_json_78e776b1098d5ae4913b4a9e5ed8cf72_onEachFeature(feature, layer) {\n",
              "            layer.on({\n",
              "            });\n",
              "        };\n",
              "        var geo_json_78e776b1098d5ae4913b4a9e5ed8cf72 = L.geoJson(null, {\n",
              "                onEachFeature: geo_json_78e776b1098d5ae4913b4a9e5ed8cf72_onEachFeature,\n",
              "            \n",
              "        });\n",
              "\n",
              "        function geo_json_78e776b1098d5ae4913b4a9e5ed8cf72_add (data) {\n",
              "            geo_json_78e776b1098d5ae4913b4a9e5ed8cf72\n",
              "                .addData(data)\n",
              "                .addTo(map_1151fb2fbf913f4841f1478c451cf966);\n",
              "        }\n",
              "            geo_json_78e776b1098d5ae4913b4a9e5ed8cf72_add({&quot;coordinates&quot;: [[[-161.4458827880851, 68.49481094880849], [-161.43952126059136, 68.43331277677805], [-161.43315982689876, 68.37181444709613], [-161.4267983728985, 68.31031624747769], [-161.42043680319156, 68.24881799453432], [-161.41407545303161, 68.18731974381181], [-161.40771406174744, 68.12582148184686], [-161.40135256897696, 68.06432321811215], [-161.39499111201124, 68.00282498501313], [-161.388629631108, 67.94132679192762], [-161.3822682316987, 67.87982847827976], [-161.37590669147016, 67.8183302233134], [-161.36954523011383, 67.75683197432751], [-161.36318379014102, 67.69533374057623], [-161.35682231510887, 67.63383553128583], [-161.35046083086812, 67.57233727074534], [-161.344099282562, 67.51083896816309], [-161.30389758456417, 67.51110149596725], [-161.26369586487436, 67.51136405112983], [-161.22349420453733, 67.51162654944262], [-161.18329243995157, 67.51188916119996], [-161.1430908158329, 67.51215163261845], [-161.102888893752, 67.51241419542036], [-161.0626872222227, 67.51267672723239], [-161.0224856085903, 67.5129392055079], [-160.9822838875642, 67.51320180028122], [-160.94208203091802, 67.5134643192864], [-160.90188042369397, 67.51372681018621], [-160.86167859745, 67.51398931118463], [-160.82147693676472, 67.51425187008418], [-160.78127524835824, 67.5145144639297], [-160.7410735060188, 67.51477690051856], [-160.70087184416656, 67.51503948160074], [-160.66067004406366, 67.51530199115777], [-160.62046821409814, 67.5155645381002], [-160.5802666304669, 67.51582706263454], [-160.54006482316186, 67.51608960187495], [-160.49986326139643, 67.51635212014027], [-160.45966147477492, 67.5166146542713], [-160.41945974011477, 67.51687714463347], [-160.37925797210832, 67.5171396761888], [-160.33905616997697, 67.51740224954325], [-160.29885461105457, 67.51766480546965], [-160.25865290949704, 67.51792729592917], [-160.21845117206786, 67.51818983010914], [-160.1782494837863, 67.51845232447182], [-160.13804775830985, 67.51871486381503], [-160.09784599479985, 67.51897744874077], [-160.0576440859069, 67.51923997107149], [-160.0174424168988, 67.5195024808722], [-159.9772407079289, 67.51976503816587], [-159.93703904492762, 67.52002755957359], [-159.89683742749136, 67.5202900457757], [-159.85663557520897, 67.5205525563818], [-159.81643387289483, 67.5208151419218], [-159.7762322142282, 67.52107769418441], [-159.73603040587716, 67.52134018868867], [-159.69582874537844, 67.5216027601886], [-159.65562693394017, 67.5218652751192], [-159.61542535688488, 67.5221277846398], [-159.57522353965715, 67.52239032256341], [-159.5350217626031, 67.52265283104789], [-159.4948202181471, 67.5229153362571], [-159.45461843118102, 67.52317787158798], [-159.41441668252403, 67.52344037944495], [-159.3742148825777, 67.52370294409165], [-159.3340131195406, 67.52396548255237], [-159.29381158581674, 67.52422802126314], [-159.25360989493063, 67.52449050941895], [-159.2134081495547, 67.52475305687844], [-159.17320643848987, 67.52501558077502], [-159.1330044781364, 67.52527813921337], [-159.09280283373596, 67.52554061790407], [-159.05260113148785, 67.52580315839982], [-159.01239946079414, 67.52606567794383], [-158.97219773035494, 67.52632826051027], [-158.9319960298726, 67.52659082339743], [-158.8917942566725, 67.5268532576994], [-158.85159252314372, 67.52711586641448], [-158.81139090856635, 67.52737837418644], [-158.77118903679028, 67.52764092161142], [-158.7699461439092, 67.65074381888036], [-158.76870316467523, 67.77384678364785], [-158.76746018647574, 67.89694972883117], [-158.76621711663913, 68.02005273367666], [-158.7649742507313, 68.14315573749941], [-158.76373120360446, 68.26625868278937], [-158.76248838758545, 68.38936161809495], [-158.76124532863452, 68.512464568265], [-158.8031928598913, 68.51218871127372], [-158.8451401432872, 68.51191287932417], [-158.8870876779645, 68.51163704166211], [-158.9290351700833, 68.5113612543289], [-158.9709825145565, 68.51108540697446], [-159.0129301155841, 68.51080955171405], [-159.054877478545, 68.51053371858552], [-159.0968251016368, 68.51025787610016], [-159.13877249057583, 68.5099820545824], [-159.1807199419135, 68.5097061961627], [-159.22266736423964, 68.5094303836846], [-159.26461485246173, 68.50915453295582], [-159.30656231549534, 68.50887872687517], [-159.34850964662976, 68.50860285533167], [-159.39045715760966, 68.50832705305058], [-159.43240474135084, 68.50805120980166], [-159.47435210618576, 68.50777538290995], [-159.51629954715943, 68.50749951379746], [-159.55824697416688, 68.50722368552788], [-159.60019448063812, 68.50694781366296], [-159.64214197679493, 68.50667198132102], [-159.6840894646215, 68.50639618786839], [-159.7260368357892, 68.50612032343727], [-159.76798440342247, 68.50584452196172], [-159.80993185762503, 68.50556864823267], [-159.85187931064036, 68.50529281084236], [-159.89382676439902, 68.50501700914893], [-159.9357741096764, 68.50474113342152], [-159.9777216603539, 68.50446531715376], [-160.01966910567077, 68.50418942556176], [-160.06161646915803, 68.50391365120615], [-160.10356402119538, 68.5036377410726], [-160.14551149514548, 68.50336194687414], [-160.18745907133908, 68.50308609963034], [-160.2294064611748, 68.50281025818784], [-160.27135386762095, 68.50253444665388], [-160.3133013809478, 68.502258580081], [-160.35524891416725, 68.501982742044], [-160.39719626799365, 68.50170690746322], [-160.43914364531975, 68.50143110021016], [-160.48109113566818, 68.50115523522008], [-160.52303865271045, 68.50087939617333], [-160.564986198203, 68.5006035824032], [-160.60693357285083, 68.50032776910926], [-160.64888106648655, 68.50005189535757], [-160.69082859344223, 68.49977604493321], [-160.73277595441914, 68.4995001932033], [-160.77472335214983, 68.49922436356879], [-160.81667078832493, 68.49894855535422], [-160.85861835077915, 68.49867268323496], [-160.90056566772358, 68.49839689206951], [-160.94251331489872, 68.49812105937578], [-160.9844606049193, 68.49784519809769], [-161.02640814229605, 68.49756937857558], [-161.06835552676864, 68.49729355294863], [-161.11030304599043, 68.49701765933888], [-161.1522505311998, 68.49674186665247], [-161.19419795310503, 68.49646598122386], [-161.23614534454532, 68.49619019550931], [-161.27809287638723, 68.49591433906475], [-161.32004046544904, 68.49563849606172], [-161.36198791243473, 68.49536264270415], [-161.40393541974433, 68.49508680151462], [-161.4458827880851, 68.49481094880849]]], &quot;type&quot;: &quot;Polygon&quot;});\n",
              "\n",
              "        \n",
              "&lt;/script&gt;\" style=\"position:absolute;width:100%;height:100%;left:0;top:0;border:none !important;\" allowfullscreen webkitallowfullscreen mozallowfullscreen></iframe></div></div>"
            ]
          },
          "metadata": {}
        }
      ],
      "source": [
        "## Visualize to double check ##\n",
        "\n",
        "# Define the visualization parameters.\n",
        "image_viz_params = {\n",
        "    'bands': ['B8', 'B3', 'B2'],\n",
        "    'min': 0,\n",
        "    'max': 3000,\n",
        "    'gamma': [0.95, 1.1, 1]\n",
        "}\n",
        "# Define a map centered on San Francisco Bay.\n",
        "map_l8 = folium.Map(zoom_start=10)\n",
        "# Add the image layer to the map and display it.\n",
        "map_l8.add_ee_layer(img, image_viz_params, 'true color composite')\n",
        "#map_l8.add_ee_layer(image_mask, {'bands': ['B2']}, 'true color composite')\n",
        "folium.GeoJson(roi.geometry().getInfo()).add_to(map_l8)\n",
        "display(map_l8) "
      ]
    },
    {
      "cell_type": "code",
      "execution_count": null,
      "metadata": {
        "id": "I08STWuDLsXh"
      },
      "outputs": [],
      "source": [
        "# IMAGE RETRIEVAL METHOD 1: GEE EXPORT TO DRIVE. Skip if batch downloading images.\n",
        "\n",
        "task = ee.batch.Export.image.toDrive(**{\n",
        "    'image': img,\n",
        "    'description': filename,\n",
        "    'folder':'S2_BGRN',\n",
        "    'fileFormat': 'GeoTIFF',\n",
        "    'scale': 10,\n",
        "    'region': roi.geometry(),\n",
        "    'maxPixels': 1e12\n",
        "})\n",
        "task.start()\n",
        "import time \n",
        "while task.active():\n",
        "  print('Polling for task (id: {}).'.format(task.id))\n",
        "  time.sleep(5)"
      ]
    },
    {
      "cell_type": "code",
      "execution_count": 224,
      "metadata": {
        "colab": {
          "base_uri": "https://localhost:8080/",
          "height": 35
        },
        "id": "MsVW0A3iNObQ",
        "outputId": "8828f910-718e-4131-abe2-58d6660cef50"
      },
      "outputs": [
        {
          "output_type": "execute_result",
          "data": {
            "text/plain": [
              "'S2A_MSIL1C_20160829T223532_N0204_R058_T04WDA_20160829T223532'"
            ],
            "application/vnd.google.colaboratory.intrinsic+json": {
              "type": "string"
            }
          },
          "metadata": {},
          "execution_count": 224
        }
      ],
      "source": [
        "# IMAGE RETRIEVAL METHOD 2: BATCH DOWNLOAD WITH SENTINELSAT API \n",
        "\n",
        "# Print product ID and record in ID_list below.\n",
        "img.getInfo().get('properties').get('PRODUCT_ID') "
      ]
    },
    {
      "cell_type": "code",
      "execution_count": null,
      "metadata": {
        "id": "vpa2yMvVAkwN"
      },
      "outputs": [],
      "source": [
        "# Record 'PRODUCT_ID' in ID_list for batch download\n",
        "ID_list = ['S2A_MSIL1C_20210820T222541_N0301_R015_T04WFE_20210821T001506', 'S2A_MSIL1C_20160713T224532_N0204_R101_T04WDD_20160713T224534', 'S2A_MSIL1C_20160829T223532_N0204_R058_T04WDA_20160829T223532,' 'S2A_MSIL1C_20160713T224532_N0204_R101_T04WDB_20160713T224534', 'S2A_MSIL1C_20160713T224532_N0204_R101_T04WDC_20160713T224534', 'S2A_MSIL1C_20160829T223532_N0204_R058_T04WDV_20160829T223532', 'S2B_MSIL1C_20190707T222539_N0207_R015_T04WDS_20190707T235752', 'S2B_MSIL1C_20190707T222539_N0207_R015_T04WDT_20190707T235752', 'S2B_MSIL1C_20190707T222539_N0207_R015_T04WDU_20190707T235752', 'S2B_MSIL1C_20180930T222529_N0206_R015_T04WFD_20181001T000258', 'S2B_MSIL1C_20190707T222539_N0207_R015_T04WEA_20190707T235752', 'S2B_MSIL1C_20190707T222539_N0207_R015_T04WEB_20190707T235752', 'S2A_MSIL1C_20200719T223541_N0209_R058_T04WEC_20200720T002418', 'S2B_MSIL1C_20180930T222529_N0206_R015_T04WFC_20181001T000258', 'S2A_MSIL1C_20200821T224541_N0209_R101_T04WEE_20200822T004503', 'S2A_MSIL1C_20200821T224541_N0209_R101_T04WEE_20200822T004503', 'S2B_MSIL1C_20180917T221529_N0206_R115_T04WFB_20180918T001514', 'S2A_MSIL1C_20190818T221531_N0208_R115_T04WFA_20190818T235258', 'S2A_MSIL1C_20170927T221531_N0205_R115_T04WEV_20170927T221528', 'S2A_MSIL1C_20170927T221531_N0205_R115_T04WEU_20170927T221528', 'S2A_OPER_PRD_MSIL1C_PDMC_20160516T154530_R115_V20160515T221537_20160515T221537', 'S2A_OPER_PRD_MSIL1C_PDMC_20160516T160324_R115_V20160515T221537_20160515T221805']\n",
        "# Set image download directory\n",
        "output_dir = \"/content/drive/MyDrive/S2_downloaded/\""
      ]
    },
    {
      "cell_type": "code",
      "execution_count": null,
      "metadata": {
        "id": "hb9mzM5xAfd9"
      },
      "outputs": [],
      "source": [
        "## Import sentinelsat api and authenticate\n",
        "\n",
        "from sentinelsat import SentinelAPI, read_geojson, geojson_to_wkt\n",
        "\n",
        "api = SentinelAPI('elevens2', '0380!nH0380!nH', 'https://scihub.copernicus.eu/dhus')\n",
        "\n",
        "if not os.path.exists(output_dir):\n",
        "    os.makedirs(output_dir)"
      ]
    },
    {
      "cell_type": "code",
      "execution_count": null,
      "metadata": {
        "id": "X3AwbRSdBQ8t"
      },
      "outputs": [],
      "source": [
        "# Batch download images\n",
        "if ID_list is not None:\n",
        "    \n",
        "    # loop through elements in ID list\n",
        "    for i, ID in enumerate(ID_list):\n",
        "\n",
        "        try:\n",
        "            \n",
        "            # find product using known ID\n",
        "            products = api.query(identifier=ID)\n",
        "            \n",
        "            # print download message for each product\n",
        "            print(\"Downloading image ID: {} ({} of {})\".format(ID, i+1, len(ID_list)))\n",
        "            \n",
        "            # download single image by known product ID\n",
        "            api.download_all(products,output_dir)\n",
        "\n",
        "        except:\n",
        "\n",
        "            # print error message if download fails\n",
        "            print(\"Could not download Sentinel-2 image with ID {}.\".format(ID))\n",
        "            \n",
        "else:\n",
        "    # print error message if none or both of ID_list and geojson_files_path have been set to equal None\n",
        "    print(\"Product ID(s) and file path(s) have been provided. Please make either 'ID_list' or 'geojson_files_path' equal to None.\")"
      ]
    }
  ],
  "metadata": {
    "colab": {
      "collapsed_sections": [],
      "provenance": [],
      "authorship_tag": "ABX9TyNqa2Xalw9WJ2FXZ+UM1gln",
      "include_colab_link": true
    },
    "kernelspec": {
      "display_name": "Python 3",
      "name": "python3"
    },
    "language_info": {
      "name": "python"
    }
  },
  "nbformat": 4,
  "nbformat_minor": 0
}