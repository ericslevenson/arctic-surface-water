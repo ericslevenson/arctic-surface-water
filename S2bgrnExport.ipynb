{
  "nbformat": 4,
  "nbformat_minor": 0,
  "metadata": {
    "colab": {
      "provenance": [],
      "collapsed_sections": [],
      "authorship_tag": "ABX9TyP9QuVNQVZOzE3+LOsZaT11",
      "include_colab_link": true
    },
    "kernelspec": {
      "name": "python3",
      "display_name": "Python 3"
    },
    "language_info": {
      "name": "python"
    }
  },
  "cells": [
    {
      "cell_type": "markdown",
      "metadata": {
        "id": "view-in-github",
        "colab_type": "text"
      },
      "source": [
        "<a href=\"https://colab.research.google.com/github/ericslevenson/arctic-surface-water/blob/main/S2bgrnExport.ipynb\" target=\"_parent\"><img src=\"https://colab.research.google.com/assets/colab-badge.svg\" alt=\"Open In Colab\"/></a>"
      ]
    },
    {
      "cell_type": "code",
      "source": [
        "'''\n",
        "author: ericslevenson\n",
        "\n",
        "Earth Engine Script to rapidly filter and visualize Sentinel-2 images to provide\n",
        "image inputs to the UNET component of LakeScan.\n",
        "\n",
        "NOTE: images are either exported from GEE directly to drive, or the 'PRODUCT_ID' \n",
        "can be recorded for batch downloads\n",
        "'''"
      ],
      "metadata": {
        "id": "E7WaeGOc4RLD"
      },
      "execution_count": null,
      "outputs": []
    },
    {
      "cell_type": "code",
      "execution_count": null,
      "metadata": {
        "id": "VkCNuGHfx148",
        "colab": {
          "base_uri": "https://localhost:8080/"
        },
        "outputId": "10aa8879-5f4e-44f1-d721-44beaee104a4"
      },
      "outputs": [
        {
          "output_type": "stream",
          "name": "stdout",
          "text": [
            "To authorize access needed by Earth Engine, open the following URL in a web browser and follow the instructions. If the web browser does not start automatically, please manually browse the URL below.\n",
            "\n",
            "    https://code.earthengine.google.com/client-auth?scopes=https%3A//www.googleapis.com/auth/earthengine%20https%3A//www.googleapis.com/auth/devstorage.full_control&request_id=FavRjU9DGTBrWAaybnsCw6NtsKxV9H8JHOJ4UiQf_tw&tc=MPWWOlQTfaql3upEco8jywDPQ4v6-zYln8Aa0yqlIRo&cc=Jbv3Y5c1N0Q4h3cW08o7Pv95_7ZwqeWVo6o4AUAgasQ\n",
            "\n",
            "The authorization workflow will generate a code, which you should paste in the box below.\n",
            "Enter verification code: 4/1ARtbsJpK_mYCOmqajGv2xzGm5XV0iQUYps4zGCqUZznqKPxRkS67mrTFNF8\n",
            "\n",
            "Successfully saved authorization token.\n",
            "Mounted at /content/drive\n"
          ]
        }
      ],
      "source": [
        "# Authenticate private account (only required for exporting to drive/gee/gcp)\n",
        "from google.colab import auth \n",
        "auth.authenticate_user()\n",
        "\n",
        "# Earth Engine setup\n",
        "import ee # Trigger the authentication flow.\n",
        "ee.Authenticate()\n",
        "ee.Initialize() # Initialize the library.\n",
        "\n",
        "# Google Drive setup (if needed)\n",
        "from google.colab import drive\n",
        "drive.mount('/content/drive')\n",
        "\n",
        "# Some common imports\n",
        "from IPython.display import Image\n",
        "import folium"
      ]
    },
    {
      "cell_type": "code",
      "source": [
        "## ***IMAGE PROCESSING METHODS***\n",
        "\n",
        "# Mask clouds in Sentinel-2\n",
        "def maskS2clouds(image):\n",
        "  '''Takes an input and adds two bands: cloud mask and clear mask'''\n",
        "  qa = image.select('QA60')\n",
        "  cloudBitMask = 1 << 10\n",
        "  cirrusBitMask = 1 << 11\n",
        "  clear_mask = qa.bitwiseAnd(cloudBitMask).eq(0).And(qa.bitwiseAnd(cirrusBitMask).eq(0)).rename('clear_mask')\n",
        "  cloud_mask = qa.bitwiseAnd(cloudBitMask).eq(1).And(qa.bitwiseAnd(cirrusBitMask).eq(1)).rename('cloud_mask')\n",
        "  return image.addBands([cloud_mask,clear_mask])\n",
        "\n",
        "# Apply cloud mask to other bands\n",
        "def applyMask(image):\n",
        "  img = image.updateMask(image.select('clear_mask'))\n",
        "  return img\n",
        "\n",
        "# Clip image\n",
        "def clip_image(image):\n",
        "  '''Clips to the roi defined at the beginning of the script'''\n",
        "  return image.clip(roi)\n",
        "\n",
        "# Get percentile cover   \n",
        "def getCover(image):\n",
        "  '''calculates percentage of the roi covered by the clear mask. NOTE: this function\n",
        "  calls the global totPixels variable that needs to be calculated in the main script.'''\n",
        "  actArea = ee.Number(image.updateMask(image.select('B2')).reduceRegion(\n",
        "      reducer = ee.Reducer.count(),\n",
        "      scale = 100,\n",
        "      maxPixels=1e12,\n",
        "      ).values().get(0)).multiply(10000)\n",
        "  # calculate the perc of cover OF CLEAR PIXELS \n",
        "  percCover = actArea.divide(area).multiply(100)\n",
        "  # number as output\n",
        "  return image.set('percCover', percCover,'actArea',actArea)\n",
        "\n",
        "# Select bgrn bands\n",
        "def selectBands(image):\n",
        "  img = image.select(['B2', 'B3', 'B4', 'B8'])\n",
        "  return img\n",
        "\n",
        "def getDims(image):\n",
        "  dimensions = img.select('B2').getInfo().get('bands')[0].get('dimensions')\n",
        "  return image.set('dims', dimensions)\n",
        "\n",
        "def add_ee_layer(self, ee_image_object, vis_params, name):\n",
        "  map_id_dict = ee.Image(ee_image_object).getMapId(vis_params)\n",
        "  folium.raster_layers.TileLayer(\n",
        "      tiles=map_id_dict['tile_fetcher'].url_format,\n",
        "      attr='Map Data &copy; <a href=\"https://earthengine.google.com/\">Google Earth Engine</a>',\n",
        "      name=name,\n",
        "      overlay=True,\n",
        "      control=True\n",
        "  ).add_to(self)\n",
        "\n",
        "folium.Map.add_ee_layer = add_ee_layer"
      ],
      "metadata": {
        "id": "0lZJwd8hyyIL"
      },
      "execution_count": null,
      "outputs": []
    },
    {
      "cell_type": "code",
      "source": [
        "# *** User inputs to customize Sentinel-2 Tile (i.e. roi), time period, and clear sky threshold ***\n",
        "tiles = ee.FeatureCollection('projects/ee-eric-levenson/assets/ArcticAKaois/S2Tiles_AK_7N') # import Sentinel-2 tiles as a GEE Feature Collection\n",
        "tile = '07WDS' # Tile of interest...this defines the ROI\n",
        "roi = tiles.filter(ee.Filter.eq('Name', tile)).first() \n",
        "start = '2016-05-15'\n",
        "finish = '2016-09-30'\n",
        "# Customize month range of interest (1 = January, etc.)\n",
        "startMonth = 5\n",
        "finishMonth = 5\n",
        "eestart = ee.Date(start)\n",
        "eefinish = ee.Date(finish)\n",
        "# clear roi percentage threshold\n",
        "coverage = 90 \n",
        "\n",
        "## ***Image Processing...don't edit***\n",
        "images = ee.ImageCollection('COPERNICUS/S2').filterBounds(roi.geometry()).filter(ee.Filter.equals('MGRS_TILE',tile)).filterDate(start,finish).filter(ee.Filter.calendarRange(startMonth, finishMonth, 'month')).filter(ee.Filter.lt('CLOUDY_PIXEL_PERCENTAGE',50)) # Get Images\n",
        "images_all = images.map(maskS2clouds) # Create cloud/clear masks\n",
        "images_all = images_all.map(clip_image) # Clip to roi\n",
        "images_all = images_all.map(applyMask) # mask other bands for clouds\n",
        "area = roi.geometry().area().getInfo() # Calculate total area\n",
        "images_all = images_all.map(getCover) # Calculate percent cover and add as an image property\n",
        "images_all = images_all.filterMetadata('percCover','greater_than', coverage) # remove images covering less than given threshold)\n",
        "images_all = images_all.map(selectBands) # reduce to bgrn bands\n",
        "percCovers = images_all.aggregate_array('percCover').getInfo() # get non EE list of percent covers\n",
        "maxim = max(percCovers) # get maximum percent cover\n",
        "best_image = images_all.filterMetadata('percCover','equals',maxim) # get image with max percent cover\n",
        "img = ee.Image(best_image.first())\n",
        "date = img.getInfo()['id'].split('/')[2].split('_')[0][:8] # get date for export\n",
        "filename = str(date+'_'+tile+'_BGRN_SR') # create filename string"
      ],
      "metadata": {
        "id": "JsGN1f3WzDpR"
      },
      "execution_count": null,
      "outputs": []
    },
    {
      "cell_type": "code",
      "source": [
        "percCovers # Print the list of coverage percentages for the time period"
      ],
      "metadata": {
        "colab": {
          "base_uri": "https://localhost:8080/"
        },
        "id": "IizcoI401hnY",
        "outputId": "b4805800-00a4-4260-ddda-9bd62f126d14"
      },
      "execution_count": null,
      "outputs": [
        {
          "output_type": "execute_result",
          "data": {
            "text/plain": [
              "[100.2532169419131, 100.2532169419131]"
            ]
          },
          "metadata": {},
          "execution_count": 186
        }
      ]
    },
    {
      "cell_type": "code",
      "source": [
        "filename # Print the filename of the clearest image, which includes the date"
      ],
      "metadata": {
        "colab": {
          "base_uri": "https://localhost:8080/",
          "height": 35
        },
        "id": "KZmtAmau4jmM",
        "outputId": "0c178d0c-4a67-4d5f-9abb-960e703813f9"
      },
      "execution_count": null,
      "outputs": [
        {
          "output_type": "execute_result",
          "data": {
            "text/plain": [
              "'20160530_07WDS_BGRN_SR'"
            ],
            "application/vnd.google.colaboratory.intrinsic+json": {
              "type": "string"
            }
          },
          "metadata": {},
          "execution_count": 187
        }
      ]
    },
    {
      "cell_type": "code",
      "source": [
        "## Visualize to double check ##\n",
        "\n",
        "# Define the visualization parameters.\n",
        "image_viz_params = {\n",
        "    'bands': ['B8', 'B3', 'B2'],\n",
        "    'min': 0,\n",
        "    'max': 3000,\n",
        "    'gamma': [0.95, 1.1, 1]\n",
        "}\n",
        "# Define a map centered on San Francisco Bay.\n",
        "map_l8 = folium.Map(zoom_start=10)\n",
        "# Add the image layer to the map and display it.\n",
        "map_l8.add_ee_layer(img, image_viz_params, 'true color composite')\n",
        "#map_l8.add_ee_layer(image_mask, {'bands': ['B2']}, 'true color composite')\n",
        "folium.GeoJson(roi.geometry().getInfo()).add_to(map_l8)\n",
        "display(map_l8) "
      ],
      "metadata": {
        "id": "a19vgTLKCPsT"
      },
      "execution_count": null,
      "outputs": []
    },
    {
      "cell_type": "code",
      "source": [
        "# IMAGE RETRIEVAL METHOD 1: GEE EXPORT TO DRIVE. Skip if batch downloading images.\n",
        "\n",
        "task = ee.batch.Export.image.toDrive(**{\n",
        "    'image': img,\n",
        "    'description': filename,\n",
        "    'folder':'S2_BGRN',\n",
        "    'fileFormat': 'GeoTIFF',\n",
        "    'scale': 10,\n",
        "    'region': roi.geometry(),\n",
        "    'maxPixels': 1e12\n",
        "})\n",
        "task.start()\n",
        "import time \n",
        "while task.active():\n",
        "  print('Polling for task (id: {}).'.format(task.id))\n",
        "  time.sleep(5)"
      ],
      "metadata": {
        "id": "I08STWuDLsXh"
      },
      "execution_count": null,
      "outputs": []
    },
    {
      "cell_type": "code",
      "source": [
        "# IMAGE RETRIEVAL METHOD 2: BATCH DOWNLOAD WITH SENTINELSAT API \n",
        "\n",
        "img.getInfo() #  print image info and record 'PRODUCT_ID' in ID_list below."
      ],
      "metadata": {
        "id": "MsVW0A3iNObQ"
      },
      "execution_count": null,
      "outputs": []
    },
    {
      "cell_type": "code",
      "source": [
        "# Record 'PRODUCT_ID' in ID_list for batch download\n",
        "ID_list = ['S2A_MSIL1C_20160928T205232_N0204_R057_T07VCG_20160928T205234', 'S2A_MSIL1C_20160901T210022_N0204_R100_T07VCH_20160901T210318', 'S2A_MSIL1C_20160901T210022_N0204_R100_T07VCJ_20160901T210318', 'S2B_MSIL1C_20210801T210029_N0301_R100_T07VCK_20210801T224019', 'S2A_MSIL1C_20200913T211521_N0209_R143_T07VCL_20200914T004606', 'S2B_MSIL1C_20210907T205019_N0301_R057_T07VDG_20210907T225715', 'S2B_MSIL1C_20190630T205029_N0207_R057_T07VDH_20190630T223017', 'S2B_MSIL1C_20210831T210019_N0301_R100_T07VDJ_20210831T224101', 'S2B_MSIL1C_20210801T210029_N0301_R100_T07VDK_20210801T224019', 'S2B_MSIL1C_20210801T210029_N0301_R100_T07VDL_20210801T224019', 'S2A_MSIL1C_20210915T210111_N0301_R100_T07WDM_20210915T230500', 'S2A_MSIL1C_20210607T210021_N0300_R100_T07WDN_20210607T231313', 'S2B_MSIL1C_20210804T211519_N0301_R143_T07WDP_20210804T225043', 'S2B_MSIL1C_20210804T211519_N0301_R143_T07WDQ_20210804T225043', 'S2A_OPER_PRD_MSIL1C_PDMC_20160531T021642_R043_V20160530T212527_20160530T212527', 'S2A_OPER_PRD_MSIL1C_PDMC_20160531T021642_R043_V20160530T212527_20160530T212527', 'S2A_MSIL1C_20180920T213521_N0206_R086_T07WDT_20180920T230929'\n",
        "]\n",
        "# Set image download directory\n",
        "output_dir = \"/content/drive/MyDrive/S2_downloaded/\""
      ],
      "metadata": {
        "id": "vpa2yMvVAkwN"
      },
      "execution_count": null,
      "outputs": []
    },
    {
      "cell_type": "code",
      "source": [
        "## Import sentinelsat api and authenticate\n",
        "\n",
        "from sentinelsat import SentinelAPI, read_geojson, geojson_to_wkt\n",
        "\n",
        "api = SentinelAPI('elevens2', '0380!nH0380!nH', 'https://scihub.copernicus.eu/dhus')\n",
        "\n",
        "if not os.path.exists(output_dir):\n",
        "    os.makedirs(output_dir)"
      ],
      "metadata": {
        "id": "hb9mzM5xAfd9"
      },
      "execution_count": null,
      "outputs": []
    },
    {
      "cell_type": "code",
      "source": [
        "# Batch download images\n",
        "if ID_list is not None:\n",
        "    \n",
        "    # loop through elements in ID list\n",
        "    for i, ID in enumerate(ID_list):\n",
        "\n",
        "        try:\n",
        "            \n",
        "            # find product using known ID\n",
        "            products = api.query(identifier=ID)\n",
        "            \n",
        "            # print download message for each product\n",
        "            print(\"Downloading image ID: {} ({} of {})\".format(ID, i+1, len(ID_list)))\n",
        "            \n",
        "            # download single image by known product ID\n",
        "            api.download_all(products,output_dir)\n",
        "\n",
        "        except:\n",
        "\n",
        "            # print error message if download fails\n",
        "            print(\"Could not download Sentinel-2 image with ID {}.\".format(ID))\n",
        "            \n",
        "else:\n",
        "    # print error message if none or both of ID_list and geojson_files_path have been set to equal None\n",
        "    print(\"Product ID(s) and file path(s) have been provided. Please make either 'ID_list' or 'geojson_files_path' equal to None.\")"
      ],
      "metadata": {
        "id": "X3AwbRSdBQ8t"
      },
      "execution_count": null,
      "outputs": []
    }
  ]
}