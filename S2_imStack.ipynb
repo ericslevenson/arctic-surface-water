{
  "nbformat": 4,
  "nbformat_minor": 0,
  "metadata": {
    "colab": {
      "provenance": [],
      "collapsed_sections": [],
      "authorship_tag": "ABX9TyO34GAXoY1YrMb6/5EN+bFe",
      "include_colab_link": true
    },
    "kernelspec": {
      "name": "python3",
      "display_name": "Python 3"
    },
    "language_info": {
      "name": "python"
    }
  },
  "cells": [
    {
      "cell_type": "markdown",
      "metadata": {
        "id": "view-in-github",
        "colab_type": "text"
      },
      "source": [
        "<a href=\"https://colab.research.google.com/github/ericslevenson/arctic-surface-water/blob/main/S2_imStack.ipynb\" target=\"_parent\"><img src=\"https://colab.research.google.com/assets/colab-badge.svg\" alt=\"Open In Colab\"/></a>"
      ]
    },
    {
      "cell_type": "code",
      "source": [
        "'''\n",
        "author: ericslevenson\n",
        "date: 9/20/2022\n",
        "\n",
        "Take folder of sentinel-2 downloads in separate bands, combine bgrn bands into single image and export\n",
        "'''"
      ],
      "metadata": {
        "id": "afzg9a4RPmcO"
      },
      "execution_count": null,
      "outputs": []
    },
    {
      "cell_type": "code",
      "source": [
        "# Authenticate private account (only required for exporting to drive/gee/gcp)\n",
        "from google.colab import auth \n",
        "auth.authenticate_user()\n",
        "# Google Drive setup (if needed)\n",
        "from google.colab import drive\n",
        "drive.mount('/content/drive')"
      ],
      "metadata": {
        "id": "XGHs3cWN8fAZ",
        "colab": {
          "base_uri": "https://localhost:8080/"
        },
        "outputId": "e7f35ce1-ba72-4876-e135-1ad9fe578405"
      },
      "execution_count": 1,
      "outputs": [
        {
          "output_type": "stream",
          "name": "stdout",
          "text": [
            "Mounted at /content/drive\n"
          ]
        }
      ]
    },
    {
      "cell_type": "code",
      "source": [
        "# Complete the environment and mount drive\n",
        "!pip install rasterio"
      ],
      "metadata": {
        "id": "_zez_7Oc8dBz",
        "colab": {
          "base_uri": "https://localhost:8080/"
        },
        "outputId": "4cdaa739-ef75-427c-bdea-4b9085af930a"
      },
      "execution_count": 2,
      "outputs": [
        {
          "output_type": "stream",
          "name": "stdout",
          "text": [
            "Looking in indexes: https://pypi.org/simple, https://us-python.pkg.dev/colab-wheels/public/simple/\n",
            "Collecting rasterio\n",
            "  Downloading rasterio-1.2.10-cp37-cp37m-manylinux1_x86_64.whl (19.3 MB)\n",
            "\u001b[K     |████████████████████████████████| 19.3 MB 1.3 MB/s \n",
            "\u001b[?25hRequirement already satisfied: setuptools in /usr/local/lib/python3.7/dist-packages (from rasterio) (57.4.0)\n",
            "Collecting affine\n",
            "  Downloading affine-2.3.1-py2.py3-none-any.whl (16 kB)\n",
            "Requirement already satisfied: attrs in /usr/local/lib/python3.7/dist-packages (from rasterio) (22.1.0)\n",
            "Requirement already satisfied: click>=4.0 in /usr/local/lib/python3.7/dist-packages (from rasterio) (7.1.2)\n",
            "Requirement already satisfied: certifi in /usr/local/lib/python3.7/dist-packages (from rasterio) (2022.9.24)\n",
            "Collecting click-plugins\n",
            "  Downloading click_plugins-1.1.1-py2.py3-none-any.whl (7.5 kB)\n",
            "Collecting snuggs>=1.4.1\n",
            "  Downloading snuggs-1.4.7-py3-none-any.whl (5.4 kB)\n",
            "Requirement already satisfied: numpy in /usr/local/lib/python3.7/dist-packages (from rasterio) (1.21.6)\n",
            "Collecting cligj>=0.5\n",
            "  Downloading cligj-0.7.2-py3-none-any.whl (7.1 kB)\n",
            "Requirement already satisfied: pyparsing>=2.1.6 in /usr/local/lib/python3.7/dist-packages (from snuggs>=1.4.1->rasterio) (3.0.9)\n",
            "Installing collected packages: snuggs, cligj, click-plugins, affine, rasterio\n",
            "Successfully installed affine-2.3.1 click-plugins-1.1.1 cligj-0.7.2 rasterio-1.2.10 snuggs-1.4.7\n"
          ]
        }
      ]
    },
    {
      "cell_type": "code",
      "source": [
        "import os\n",
        "import numpy as np\n",
        "import rasterio"
      ],
      "metadata": {
        "id": "QvMM-D2A8iVt"
      },
      "execution_count": 3,
      "outputs": []
    },
    {
      "cell_type": "code",
      "source": [
        "# image directory\n",
        "inDirectory = '/content/drive/MyDrive/S2_downloaded/unzipped/'\n",
        "outDirectory = ('/content/drive/MyDrive/S2_BGRN/')"
      ],
      "metadata": {
        "id": "9bojHJA78rE7"
      },
      "execution_count": 4,
      "outputs": []
    },
    {
      "cell_type": "code",
      "source": [
        "images_all = []\n",
        "for f in os.listdir(inDirectory):\n",
        "  #print(f)\n",
        "  id = f.split('_')[0]\n",
        "  date = f.split('_')[1]\n",
        "  band = f.split('_')[2]\n",
        "  image = id + '_' + date\n",
        "  images_all.append(image)\n",
        "images = list(set(images_all))\n",
        "images"
      ],
      "metadata": {
        "colab": {
          "base_uri": "https://localhost:8080/"
        },
        "id": "8KumELWup3uR",
        "outputId": "679052f2-24dd-4df3-f5a8-6934de00960b"
      },
      "execution_count": 5,
      "outputs": [
        {
          "output_type": "execute_result",
          "data": {
            "text/plain": [
              "['T07WDM_20210915T210111',\n",
              " 'T07VDL_20210801T210029',\n",
              " 'T07VDJ_20210831T210019',\n",
              " 'T07VCG_20160928T205232',\n",
              " 'T07VCL_20200913T211521',\n",
              " 'T07VDG_20210907T205019',\n",
              " 'T07VCK_20210801T210029',\n",
              " 'T07VCH_20160901T210022',\n",
              " 'T07VDH_20190630T205029',\n",
              " 'T07VDK_20210801T210029',\n",
              " 'T07VCJ_20160901T210022']"
            ]
          },
          "metadata": {},
          "execution_count": 5
        }
      ]
    },
    {
      "cell_type": "code",
      "source": [
        "for i, img in enumerate(images):\n",
        "  blue = rasterio.open(inDirectory+img+'_B02.jp2', driver='JP2OpenJPEG')\n",
        "  green = rasterio.open(inDirectory+img+'_B03.jp2', driver='JP2OpenJPEG')\n",
        "  red = rasterio.open(inDirectory+img+'_B04.jp2', driver='JP2OpenJPEG')\n",
        "  nir = rasterio.open(inDirectory+img+'_B08.jp2', driver='JP2OpenJPEG')\n",
        "  # extract metadata from one file and update for multiband raster\n",
        "  meta = blue.meta\n",
        "  meta.update({'count':4, 'driver':'GTiff'})\n",
        "  # create filename\n",
        "  id = img.split('_')[0][1:]\n",
        "  date = img.split('_')[1][:8]\n",
        "  filename = date + '_' + id + '_BGRN_SR.tif'\n",
        "  # write to rgbn tiff\n",
        "  print('writing ' + filename + ' ' + str(i+1) + ' of ' + str(len(images)))\n",
        "  with rasterio.open(outDirectory+filename, 'w', **meta) as dest:\n",
        "      dest.write(blue.read(1),1)\n",
        "      dest.write(green.read(1),2)\n",
        "      dest.write(red.read(1),3)\n",
        "      dest.write(nir.read(1),4)"
      ],
      "metadata": {
        "id": "8l8Stwz884nS",
        "colab": {
          "base_uri": "https://localhost:8080/"
        },
        "outputId": "8a043e46-89eb-4f84-f3a0-b01ce520b102"
      },
      "execution_count": 6,
      "outputs": [
        {
          "output_type": "stream",
          "name": "stdout",
          "text": [
            "writing 20210915_07WDM_BGRN_SR.tif 1 of 11\n",
            "writing 20210801_07VDL_BGRN_SR.tif 2 of 11\n",
            "writing 20210831_07VDJ_BGRN_SR.tif 3 of 11\n",
            "writing 20160928_07VCG_BGRN_SR.tif 4 of 11\n",
            "writing 20200913_07VCL_BGRN_SR.tif 5 of 11\n",
            "writing 20210907_07VDG_BGRN_SR.tif 6 of 11\n",
            "writing 20210801_07VCK_BGRN_SR.tif 7 of 11\n",
            "writing 20160901_07VCH_BGRN_SR.tif 8 of 11\n",
            "writing 20190630_07VDH_BGRN_SR.tif 9 of 11\n",
            "writing 20210801_07VDK_BGRN_SR.tif 10 of 11\n",
            "writing 20160901_07VCJ_BGRN_SR.tif 11 of 11\n"
          ]
        }
      ]
    }
  ]
}