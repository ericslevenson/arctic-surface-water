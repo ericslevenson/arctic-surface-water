{
  "nbformat": 4,
  "nbformat_minor": 0,
  "metadata": {
    "colab": {
      "provenance": [],
      "authorship_tag": "ABX9TyMKXY+7zL8+PhsixG9y0zDi",
      "include_colab_link": true
    },
    "kernelspec": {
      "name": "python3",
      "display_name": "Python 3"
    },
    "language_info": {
      "name": "python"
    }
  },
  "cells": [
    {
      "cell_type": "markdown",
      "metadata": {
        "id": "view-in-github",
        "colab_type": "text"
      },
      "source": [
        "<a href=\"https://colab.research.google.com/github/ericslevenson/arctic-surface-water/blob/main/dilate2vectors.ipynb\" target=\"_parent\"><img src=\"https://colab.research.google.com/assets/colab-badge.svg\" alt=\"Open In Colab\"/></a>"
      ]
    },
    {
      "cell_type": "code",
      "source": [
        "'''\n",
        "author: ericslevenson\n",
        "date: 10/16/2022\n",
        "description: dilate lake predictions and vectorize"
      ],
      "metadata": {
        "id": "WUxBI7bspJVD"
      },
      "execution_count": null,
      "outputs": []
    },
    {
      "cell_type": "code",
      "source": [
        "# Authenticate private account (only required for exporting to drive/gee/gcp)\n",
        "from google.colab import auth \n",
        "auth.authenticate_user()\n",
        "# Google Drive setup\n",
        "from google.colab import drive\n",
        "drive.mount('/content/drive')\n",
        "# Complete the environment\n",
        "!pip install rasterio\n",
        "!pip install geopandas"
      ],
      "metadata": {
        "id": "Dwu1msBWpIiY"
      },
      "execution_count": null,
      "outputs": []
    },
    {
      "cell_type": "code",
      "source": [
        "import os\n",
        "import rasterio\n",
        "import geopandas\n",
        "import scipy\n",
        "import pandas as pd\n",
        "import numpy as np\n",
        "from rasterio.mask import mask\n",
        "from rasterio import plot\n",
        "from rasterio.merge import merge\n",
        "from rasterio.plot import show\n",
        "from rasterio import features\n",
        "from geopandas import GeoDataFrame\n",
        "from pandas import DataFrame\n",
        "from rasterio.features import shapes\n",
        "from shapely.geometry import shape"
      ],
      "metadata": {
        "id": "w-acirahprCW"
      },
      "execution_count": null,
      "outputs": []
    },
    {
      "cell_type": "code",
      "source": [
        "from scipy import ndimage"
      ],
      "metadata": {
        "id": "vqD6-bfQKUxE"
      },
      "execution_count": null,
      "outputs": []
    },
    {
      "cell_type": "code",
      "execution_count": null,
      "metadata": {
        "id": "5kBgO2xaBIo0"
      },
      "outputs": [],
      "source": [
        "predPath = '/content/drive/MyDrive/UNET_outputs/' # path to unet prediction directory\n",
        "outPath = '/content/drive/MyDrive/UNET_pred_dilated/' # path to dilated prediction directory\n"
      ]
    },
    {
      "cell_type": "code",
      "source": [
        "count = 0\n",
        "for f in os.listdir(predPath):\n",
        "  count += 1"
      ],
      "metadata": {
        "id": "Rdam9bL1rPHw"
      },
      "execution_count": null,
      "outputs": []
    },
    {
      "cell_type": "code",
      "source": [
        "# Option 1: Dilate lake predictions, vectorize, export shapefile\n",
        "kernel = np.ones((3,3),np.uint8) # define kernel matrix for dilation\n",
        "for i, f in enumerate(os.listdir(predPath)):\n",
        "    # Read in image to np array\n",
        "    with rasterio.open(predPath+f) as src:\n",
        "      data = src.read(1)\n",
        "      meta = src.meta\n",
        "      meta.update({'nodata':np.nan})\n",
        "      trans = src.transform\n",
        "      #check if binary\n",
        "      #if data is not binary:\n",
        "      data = np.where(data > 0.33, 1, 0) # create binary\n",
        "      dilated_pred = scipy.ndimage.binary_dilation(data, kernel, iterations = 6).astype(np.int32)\n",
        "      # generate shapes\n",
        "      shape_gen = ((shape(s), v) for s, v in shapes(dilated_pred, transform=src.transform))\n",
        "      # build a pd.DataFrame of shapes and convert to geodataframe\n",
        "      df = DataFrame(shape_gen, columns=['geometry', 'class'])\n",
        "      gdf = GeoDataFrame(df[\"class\"], geometry=df.geometry, crs=src.crs)\n",
        "      # filter out non-lake polygons\n",
        "      gdf = gdf[gdf['class'] == 1]\n",
        "      # write to file\n",
        "      gdf.to_file(outPath + f.split('.')[0] + '_bufferedLakes.shp')\n",
        "    print('writing ' + f + ' aka number ' + str(i+1) + ' of ' + str(count)) "
      ],
      "metadata": {
        "colab": {
          "base_uri": "https://localhost:8080/"
        },
        "id": "mxX-cZNfBruG",
        "outputId": "448e642d-d7fc-47b2-fb51-04faac93de6b"
      },
      "execution_count": null,
      "outputs": [
        {
          "output_type": "stream",
          "name": "stdout",
          "text": [
            "writing 20200707_06WWC__unet_pred.tif aka number 1 of 1\n"
          ]
        }
      ]
    }
  ]
}