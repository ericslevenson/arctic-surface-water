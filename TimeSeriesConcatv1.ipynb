{
  "nbformat": 4,
  "nbformat_minor": 0,
  "metadata": {
    "colab": {
      "name": "TimeSeriesConcatv1.ipynb",
      "provenance": [],
      "authorship_tag": "ABX9TyN7UsgKBuYpSlM4u+nfUvWS",
      "include_colab_link": true
    },
    "kernelspec": {
      "name": "python3",
      "display_name": "Python 3"
    },
    "language_info": {
      "name": "python"
    }
  },
  "cells": [
    {
      "cell_type": "markdown",
      "metadata": {
        "id": "view-in-github",
        "colab_type": "text"
      },
      "source": [
        "<a href=\"https://colab.research.google.com/github/ericslevenson/arctic-surface-water/blob/main/TimeSeriesConcatv1.ipynb\" target=\"_parent\"><img src=\"https://colab.research.google.com/assets/colab-badge.svg\" alt=\"Open In Colab\"/></a>"
      ]
    },
    {
      "cell_type": "markdown",
      "source": [
        "#### Setup"
      ],
      "metadata": {
        "id": "tNzPQoA2nHGF"
      }
    },
    {
      "cell_type": "code",
      "execution_count": 1,
      "metadata": {
        "colab": {
          "base_uri": "https://localhost:8080/"
        },
        "id": "dDlDoTK8lz1s",
        "outputId": "bd939317-ac16-42fb-cd3a-b45fa7cd6d4c"
      },
      "outputs": [
        {
          "output_type": "stream",
          "name": "stdout",
          "text": [
            "Mounted at /content/drive\n"
          ]
        }
      ],
      "source": [
        "# Google Drive setup\n",
        "from google.colab import drive\n",
        "drive.mount('/content/drive')"
      ]
    },
    {
      "cell_type": "code",
      "source": [
        "import os\n",
        "import csv\n",
        "from pathlib import Path\n",
        "import numpy as np\n",
        "import pandas as pd\n",
        "import xarray as xr \n",
        "from datetime import date\n",
        "import matplotlib.pyplot as plt"
      ],
      "metadata": {
        "id": "WY8HTHp3l4cz"
      },
      "execution_count": 2,
      "outputs": []
    },
    {
      "cell_type": "code",
      "source": [
        "folder = Path('/content/drive/MyDrive/tooliktimeseries')"
      ],
      "metadata": {
        "id": "PI9yfWnGl6Hq"
      },
      "execution_count": 3,
      "outputs": []
    },
    {
      "cell_type": "markdown",
      "source": [
        "#### Create Dataset"
      ],
      "metadata": {
        "id": "7feAs0GynOrU"
      }
    },
    {
      "cell_type": "code",
      "source": [
        "# Get a list of dataframes from folder\n",
        "data = [] # list of dataframes\n",
        "for i in os.listdir(folder):\n",
        "  dfpath = Path(folder, i) # define path\n",
        "  df = pd.read_csv(dfpath) # read into csv\n",
        "  # **CREATE NEW COLUMNS WITH X AND Y COORDINATE**\n",
        "  df['x'] = df['centroid'].map(lambda centroid: float(centroid.strip('][').split(',')[0])) # x coordinate\n",
        "  df['y'] = df['centroid'].map(lambda centroid: float(centroid.strip('][').split(',')[1])) # y coordinate\n",
        "  # ** ADD DATE AS COLUMN**\n",
        "  df['date'] = date.fromisoformat(i.strip('Toolik.csv')[1:].replace('_', '-'))\n",
        "  df['date']= pd.to_datetime(df['date']) # convert to proper datetime...could be optimized\n",
        "  data.append(df)"
      ],
      "metadata": {
        "id": "54xBHBgJl79S"
      },
      "execution_count": 4,
      "outputs": []
    },
    {
      "cell_type": "code",
      "source": [
        "dslist =[]\n",
        "for i in data:\n",
        "  dfs = xr.Dataset(\n",
        "    {\n",
        "        'date': (['date'], [i['date'].iloc[0]]),\n",
        "        'id': (['id'], i['id']),\n",
        "        'waterPixels': (['id'], i['waterPixels']),\n",
        "        'clearPixels': (['id'], i['clearPixels']),\n",
        "        'allPixels': (['id'], i['allPixels'])},\n",
        "    coords={\n",
        "        'x': (['id'], i['x']),\n",
        "        'y': (['id'], i['y'])}\n",
        "        )\n",
        "  dslist.append(dfs)"
      ],
      "metadata": {
        "id": "D369uT0sl96S"
      },
      "execution_count": 5,
      "outputs": []
    },
    {
      "cell_type": "code",
      "source": [
        "ds = xr.concat(dslist, dim=\"date\")"
      ],
      "metadata": {
        "id": "xODRSvLcl_tS"
      },
      "execution_count": 6,
      "outputs": []
    },
    {
      "cell_type": "markdown",
      "source": [
        "View the dataset"
      ],
      "metadata": {
        "id": "tJJ5VnrinlrN"
      }
    },
    {
      "cell_type": "code",
      "source": [
        "ds"
      ],
      "metadata": {
        "colab": {
          "base_uri": "https://localhost:8080/",
          "height": 308
        },
        "id": "Z449m44mnn49",
        "outputId": "ebc1220a-d0db-41d3-f41b-739b88ed7f32"
      },
      "execution_count": 7,
      "outputs": [
        {
          "output_type": "execute_result",
          "data": {
            "text/plain": [
              "<xarray.Dataset>\n",
              "Dimensions:      (date: 5, id: 17827)\n",
              "Coordinates:\n",
              "  * date         (date) datetime64[ns] 2020-07-07 2020-07-05 ... 2020-07-08\n",
              "  * id           (id) object '00000000000000000010' ... '0000000000000000116e'\n",
              "    x            (id) float64 -150.1 -150.2 -150.8 ... -148.6 -150.4 -150.9\n",
              "    y            (id) float64 68.66 69.75 69.53 69.57 ... 69.48 69.37 69.69\n",
              "Data variables:\n",
              "    waterPixels  (date, id) float64 0.0 0.0 0.0 0.0 ... 2.047e+03 3.405e+03 58.0\n",
              "    clearPixels  (date, id) float64 87.73 82.53 84.42 ... 5.473e+03 9.72e+03\n",
              "    allPixels    (date, id) int64 94 87 88 91 92 92 ... 0 2827 2936 5523 9829"
            ],
            "text/html": [
              "<div><svg style=\"position: absolute; width: 0; height: 0; overflow: hidden\">\n",
              "<defs>\n",
              "<symbol id=\"icon-database\" viewBox=\"0 0 32 32\">\n",
              "<path d=\"M16 0c-8.837 0-16 2.239-16 5v4c0 2.761 7.163 5 16 5s16-2.239 16-5v-4c0-2.761-7.163-5-16-5z\"></path>\n",
              "<path d=\"M16 17c-8.837 0-16-2.239-16-5v6c0 2.761 7.163 5 16 5s16-2.239 16-5v-6c0 2.761-7.163 5-16 5z\"></path>\n",
              "<path d=\"M16 26c-8.837 0-16-2.239-16-5v6c0 2.761 7.163 5 16 5s16-2.239 16-5v-6c0 2.761-7.163 5-16 5z\"></path>\n",
              "</symbol>\n",
              "<symbol id=\"icon-file-text2\" viewBox=\"0 0 32 32\">\n",
              "<path d=\"M28.681 7.159c-0.694-0.947-1.662-2.053-2.724-3.116s-2.169-2.030-3.116-2.724c-1.612-1.182-2.393-1.319-2.841-1.319h-15.5c-1.378 0-2.5 1.121-2.5 2.5v27c0 1.378 1.122 2.5 2.5 2.5h23c1.378 0 2.5-1.122 2.5-2.5v-19.5c0-0.448-0.137-1.23-1.319-2.841zM24.543 5.457c0.959 0.959 1.712 1.825 2.268 2.543h-4.811v-4.811c0.718 0.556 1.584 1.309 2.543 2.268zM28 29.5c0 0.271-0.229 0.5-0.5 0.5h-23c-0.271 0-0.5-0.229-0.5-0.5v-27c0-0.271 0.229-0.5 0.5-0.5 0 0 15.499-0 15.5 0v7c0 0.552 0.448 1 1 1h7v19.5z\"></path>\n",
              "<path d=\"M23 26h-14c-0.552 0-1-0.448-1-1s0.448-1 1-1h14c0.552 0 1 0.448 1 1s-0.448 1-1 1z\"></path>\n",
              "<path d=\"M23 22h-14c-0.552 0-1-0.448-1-1s0.448-1 1-1h14c0.552 0 1 0.448 1 1s-0.448 1-1 1z\"></path>\n",
              "<path d=\"M23 18h-14c-0.552 0-1-0.448-1-1s0.448-1 1-1h14c0.552 0 1 0.448 1 1s-0.448 1-1 1z\"></path>\n",
              "</symbol>\n",
              "</defs>\n",
              "</svg>\n",
              "<style>/* CSS stylesheet for displaying xarray objects in jupyterlab.\n",
              " *\n",
              " */\n",
              "\n",
              ":root {\n",
              "  --xr-font-color0: var(--jp-content-font-color0, rgba(0, 0, 0, 1));\n",
              "  --xr-font-color2: var(--jp-content-font-color2, rgba(0, 0, 0, 0.54));\n",
              "  --xr-font-color3: var(--jp-content-font-color3, rgba(0, 0, 0, 0.38));\n",
              "  --xr-border-color: var(--jp-border-color2, #e0e0e0);\n",
              "  --xr-disabled-color: var(--jp-layout-color3, #bdbdbd);\n",
              "  --xr-background-color: var(--jp-layout-color0, white);\n",
              "  --xr-background-color-row-even: var(--jp-layout-color1, white);\n",
              "  --xr-background-color-row-odd: var(--jp-layout-color2, #eeeeee);\n",
              "}\n",
              "\n",
              "html[theme=dark],\n",
              "body.vscode-dark {\n",
              "  --xr-font-color0: rgba(255, 255, 255, 1);\n",
              "  --xr-font-color2: rgba(255, 255, 255, 0.54);\n",
              "  --xr-font-color3: rgba(255, 255, 255, 0.38);\n",
              "  --xr-border-color: #1F1F1F;\n",
              "  --xr-disabled-color: #515151;\n",
              "  --xr-background-color: #111111;\n",
              "  --xr-background-color-row-even: #111111;\n",
              "  --xr-background-color-row-odd: #313131;\n",
              "}\n",
              "\n",
              ".xr-wrap {\n",
              "  display: block;\n",
              "  min-width: 300px;\n",
              "  max-width: 700px;\n",
              "}\n",
              "\n",
              ".xr-text-repr-fallback {\n",
              "  /* fallback to plain text repr when CSS is not injected (untrusted notebook) */\n",
              "  display: none;\n",
              "}\n",
              "\n",
              ".xr-header {\n",
              "  padding-top: 6px;\n",
              "  padding-bottom: 6px;\n",
              "  margin-bottom: 4px;\n",
              "  border-bottom: solid 1px var(--xr-border-color);\n",
              "}\n",
              "\n",
              ".xr-header > div,\n",
              ".xr-header > ul {\n",
              "  display: inline;\n",
              "  margin-top: 0;\n",
              "  margin-bottom: 0;\n",
              "}\n",
              "\n",
              ".xr-obj-type,\n",
              ".xr-array-name {\n",
              "  margin-left: 2px;\n",
              "  margin-right: 10px;\n",
              "}\n",
              "\n",
              ".xr-obj-type {\n",
              "  color: var(--xr-font-color2);\n",
              "}\n",
              "\n",
              ".xr-sections {\n",
              "  padding-left: 0 !important;\n",
              "  display: grid;\n",
              "  grid-template-columns: 150px auto auto 1fr 20px 20px;\n",
              "}\n",
              "\n",
              ".xr-section-item {\n",
              "  display: contents;\n",
              "}\n",
              "\n",
              ".xr-section-item input {\n",
              "  display: none;\n",
              "}\n",
              "\n",
              ".xr-section-item input + label {\n",
              "  color: var(--xr-disabled-color);\n",
              "}\n",
              "\n",
              ".xr-section-item input:enabled + label {\n",
              "  cursor: pointer;\n",
              "  color: var(--xr-font-color2);\n",
              "}\n",
              "\n",
              ".xr-section-item input:enabled + label:hover {\n",
              "  color: var(--xr-font-color0);\n",
              "}\n",
              "\n",
              ".xr-section-summary {\n",
              "  grid-column: 1;\n",
              "  color: var(--xr-font-color2);\n",
              "  font-weight: 500;\n",
              "}\n",
              "\n",
              ".xr-section-summary > span {\n",
              "  display: inline-block;\n",
              "  padding-left: 0.5em;\n",
              "}\n",
              "\n",
              ".xr-section-summary-in:disabled + label {\n",
              "  color: var(--xr-font-color2);\n",
              "}\n",
              "\n",
              ".xr-section-summary-in + label:before {\n",
              "  display: inline-block;\n",
              "  content: '►';\n",
              "  font-size: 11px;\n",
              "  width: 15px;\n",
              "  text-align: center;\n",
              "}\n",
              "\n",
              ".xr-section-summary-in:disabled + label:before {\n",
              "  color: var(--xr-disabled-color);\n",
              "}\n",
              "\n",
              ".xr-section-summary-in:checked + label:before {\n",
              "  content: '▼';\n",
              "}\n",
              "\n",
              ".xr-section-summary-in:checked + label > span {\n",
              "  display: none;\n",
              "}\n",
              "\n",
              ".xr-section-summary,\n",
              ".xr-section-inline-details {\n",
              "  padding-top: 4px;\n",
              "  padding-bottom: 4px;\n",
              "}\n",
              "\n",
              ".xr-section-inline-details {\n",
              "  grid-column: 2 / -1;\n",
              "}\n",
              "\n",
              ".xr-section-details {\n",
              "  display: none;\n",
              "  grid-column: 1 / -1;\n",
              "  margin-bottom: 5px;\n",
              "}\n",
              "\n",
              ".xr-section-summary-in:checked ~ .xr-section-details {\n",
              "  display: contents;\n",
              "}\n",
              "\n",
              ".xr-array-wrap {\n",
              "  grid-column: 1 / -1;\n",
              "  display: grid;\n",
              "  grid-template-columns: 20px auto;\n",
              "}\n",
              "\n",
              ".xr-array-wrap > label {\n",
              "  grid-column: 1;\n",
              "  vertical-align: top;\n",
              "}\n",
              "\n",
              ".xr-preview {\n",
              "  color: var(--xr-font-color3);\n",
              "}\n",
              "\n",
              ".xr-array-preview,\n",
              ".xr-array-data {\n",
              "  padding: 0 5px !important;\n",
              "  grid-column: 2;\n",
              "}\n",
              "\n",
              ".xr-array-data,\n",
              ".xr-array-in:checked ~ .xr-array-preview {\n",
              "  display: none;\n",
              "}\n",
              "\n",
              ".xr-array-in:checked ~ .xr-array-data,\n",
              ".xr-array-preview {\n",
              "  display: inline-block;\n",
              "}\n",
              "\n",
              ".xr-dim-list {\n",
              "  display: inline-block !important;\n",
              "  list-style: none;\n",
              "  padding: 0 !important;\n",
              "  margin: 0;\n",
              "}\n",
              "\n",
              ".xr-dim-list li {\n",
              "  display: inline-block;\n",
              "  padding: 0;\n",
              "  margin: 0;\n",
              "}\n",
              "\n",
              ".xr-dim-list:before {\n",
              "  content: '(';\n",
              "}\n",
              "\n",
              ".xr-dim-list:after {\n",
              "  content: ')';\n",
              "}\n",
              "\n",
              ".xr-dim-list li:not(:last-child):after {\n",
              "  content: ',';\n",
              "  padding-right: 5px;\n",
              "}\n",
              "\n",
              ".xr-has-index {\n",
              "  font-weight: bold;\n",
              "}\n",
              "\n",
              ".xr-var-list,\n",
              ".xr-var-item {\n",
              "  display: contents;\n",
              "}\n",
              "\n",
              ".xr-var-item > div,\n",
              ".xr-var-item label,\n",
              ".xr-var-item > .xr-var-name span {\n",
              "  background-color: var(--xr-background-color-row-even);\n",
              "  margin-bottom: 0;\n",
              "}\n",
              "\n",
              ".xr-var-item > .xr-var-name:hover span {\n",
              "  padding-right: 5px;\n",
              "}\n",
              "\n",
              ".xr-var-list > li:nth-child(odd) > div,\n",
              ".xr-var-list > li:nth-child(odd) > label,\n",
              ".xr-var-list > li:nth-child(odd) > .xr-var-name span {\n",
              "  background-color: var(--xr-background-color-row-odd);\n",
              "}\n",
              "\n",
              ".xr-var-name {\n",
              "  grid-column: 1;\n",
              "}\n",
              "\n",
              ".xr-var-dims {\n",
              "  grid-column: 2;\n",
              "}\n",
              "\n",
              ".xr-var-dtype {\n",
              "  grid-column: 3;\n",
              "  text-align: right;\n",
              "  color: var(--xr-font-color2);\n",
              "}\n",
              "\n",
              ".xr-var-preview {\n",
              "  grid-column: 4;\n",
              "}\n",
              "\n",
              ".xr-var-name,\n",
              ".xr-var-dims,\n",
              ".xr-var-dtype,\n",
              ".xr-preview,\n",
              ".xr-attrs dt {\n",
              "  white-space: nowrap;\n",
              "  overflow: hidden;\n",
              "  text-overflow: ellipsis;\n",
              "  padding-right: 10px;\n",
              "}\n",
              "\n",
              ".xr-var-name:hover,\n",
              ".xr-var-dims:hover,\n",
              ".xr-var-dtype:hover,\n",
              ".xr-attrs dt:hover {\n",
              "  overflow: visible;\n",
              "  width: auto;\n",
              "  z-index: 1;\n",
              "}\n",
              "\n",
              ".xr-var-attrs,\n",
              ".xr-var-data {\n",
              "  display: none;\n",
              "  background-color: var(--xr-background-color) !important;\n",
              "  padding-bottom: 5px !important;\n",
              "}\n",
              "\n",
              ".xr-var-attrs-in:checked ~ .xr-var-attrs,\n",
              ".xr-var-data-in:checked ~ .xr-var-data {\n",
              "  display: block;\n",
              "}\n",
              "\n",
              ".xr-var-data > table {\n",
              "  float: right;\n",
              "}\n",
              "\n",
              ".xr-var-name span,\n",
              ".xr-var-data,\n",
              ".xr-attrs {\n",
              "  padding-left: 25px !important;\n",
              "}\n",
              "\n",
              ".xr-attrs,\n",
              ".xr-var-attrs,\n",
              ".xr-var-data {\n",
              "  grid-column: 1 / -1;\n",
              "}\n",
              "\n",
              "dl.xr-attrs {\n",
              "  padding: 0;\n",
              "  margin: 0;\n",
              "  display: grid;\n",
              "  grid-template-columns: 125px auto;\n",
              "}\n",
              "\n",
              ".xr-attrs dt,\n",
              ".xr-attrs dd {\n",
              "  padding: 0;\n",
              "  margin: 0;\n",
              "  float: left;\n",
              "  padding-right: 10px;\n",
              "  width: auto;\n",
              "}\n",
              "\n",
              ".xr-attrs dt {\n",
              "  font-weight: normal;\n",
              "  grid-column: 1;\n",
              "}\n",
              "\n",
              ".xr-attrs dt:hover span {\n",
              "  display: inline-block;\n",
              "  background: var(--xr-background-color);\n",
              "  padding-right: 10px;\n",
              "}\n",
              "\n",
              ".xr-attrs dd {\n",
              "  grid-column: 2;\n",
              "  white-space: pre-wrap;\n",
              "  word-break: break-all;\n",
              "}\n",
              "\n",
              ".xr-icon-database,\n",
              ".xr-icon-file-text2 {\n",
              "  display: inline-block;\n",
              "  vertical-align: middle;\n",
              "  width: 1em;\n",
              "  height: 1.5em !important;\n",
              "  stroke-width: 0;\n",
              "  stroke: currentColor;\n",
              "  fill: currentColor;\n",
              "}\n",
              "</style><pre class='xr-text-repr-fallback'>&lt;xarray.Dataset&gt;\n",
              "Dimensions:      (date: 5, id: 17827)\n",
              "Coordinates:\n",
              "  * date         (date) datetime64[ns] 2020-07-07 2020-07-05 ... 2020-07-08\n",
              "  * id           (id) object &#x27;00000000000000000010&#x27; ... &#x27;0000000000000000116e&#x27;\n",
              "    x            (id) float64 -150.1 -150.2 -150.8 ... -148.6 -150.4 -150.9\n",
              "    y            (id) float64 68.66 69.75 69.53 69.57 ... 69.48 69.37 69.69\n",
              "Data variables:\n",
              "    waterPixels  (date, id) float64 0.0 0.0 0.0 0.0 ... 2.047e+03 3.405e+03 58.0\n",
              "    clearPixels  (date, id) float64 87.73 82.53 84.42 ... 5.473e+03 9.72e+03\n",
              "    allPixels    (date, id) int64 94 87 88 91 92 92 ... 0 2827 2936 5523 9829</pre><div class='xr-wrap' hidden><div class='xr-header'><div class='xr-obj-type'>xarray.Dataset</div></div><ul class='xr-sections'><li class='xr-section-item'><input id='section-985dea9c-cad3-4cdf-a405-430ae512e4ad' class='xr-section-summary-in' type='checkbox' disabled ><label for='section-985dea9c-cad3-4cdf-a405-430ae512e4ad' class='xr-section-summary'  title='Expand/collapse section'>Dimensions:</label><div class='xr-section-inline-details'><ul class='xr-dim-list'><li><span class='xr-has-index'>date</span>: 5</li><li><span class='xr-has-index'>id</span>: 17827</li></ul></div><div class='xr-section-details'></div></li><li class='xr-section-item'><input id='section-872b2958-df78-4ccc-8e3e-f7c686003d24' class='xr-section-summary-in' type='checkbox'  checked><label for='section-872b2958-df78-4ccc-8e3e-f7c686003d24' class='xr-section-summary' >Coordinates: <span>(4)</span></label><div class='xr-section-inline-details'></div><div class='xr-section-details'><ul class='xr-var-list'><li class='xr-var-item'><div class='xr-var-name'><span class='xr-has-index'>date</span></div><div class='xr-var-dims'>(date)</div><div class='xr-var-dtype'>datetime64[ns]</div><div class='xr-var-preview xr-preview'>2020-07-07 ... 2020-07-08</div><input id='attrs-14044a52-52db-4549-a2b7-036401e3f450' class='xr-var-attrs-in' type='checkbox' disabled><label for='attrs-14044a52-52db-4549-a2b7-036401e3f450' title='Show/Hide attributes'><svg class='icon xr-icon-file-text2'><use xlink:href='#icon-file-text2'></use></svg></label><input id='data-67b7459a-9262-4bda-b00b-2c43496121c9' class='xr-var-data-in' type='checkbox'><label for='data-67b7459a-9262-4bda-b00b-2c43496121c9' title='Show/Hide data repr'><svg class='icon xr-icon-database'><use xlink:href='#icon-database'></use></svg></label><div class='xr-var-attrs'><dl class='xr-attrs'></dl></div><div class='xr-var-data'><pre>array([&#x27;2020-07-07T00:00:00.000000000&#x27;, &#x27;2020-07-05T00:00:00.000000000&#x27;,\n",
              "       &#x27;2020-07-02T00:00:00.000000000&#x27;, &#x27;2020-07-03T00:00:00.000000000&#x27;,\n",
              "       &#x27;2020-07-08T00:00:00.000000000&#x27;], dtype=&#x27;datetime64[ns]&#x27;)</pre></div></li><li class='xr-var-item'><div class='xr-var-name'><span class='xr-has-index'>id</span></div><div class='xr-var-dims'>(id)</div><div class='xr-var-dtype'>object</div><div class='xr-var-preview xr-preview'>&#x27;00000000000000000010&#x27; ... &#x27;0000...</div><input id='attrs-e61f3dbb-780a-4e73-91ca-08e792711f49' class='xr-var-attrs-in' type='checkbox' disabled><label for='attrs-e61f3dbb-780a-4e73-91ca-08e792711f49' title='Show/Hide attributes'><svg class='icon xr-icon-file-text2'><use xlink:href='#icon-file-text2'></use></svg></label><input id='data-ed57bffc-2732-4d5d-b441-0df562a01604' class='xr-var-data-in' type='checkbox'><label for='data-ed57bffc-2732-4d5d-b441-0df562a01604' title='Show/Hide data repr'><svg class='icon xr-icon-database'><use xlink:href='#icon-database'></use></svg></label><div class='xr-var-attrs'><dl class='xr-attrs'></dl></div><div class='xr-var-data'><pre>array([&#x27;00000000000000000010&#x27;, &#x27;000000000000000002a7&#x27;, &#x27;00000000000000000ee1&#x27;,\n",
              "       ..., &#x27;000000000000000022c6&#x27;, &#x27;0000000000000000081d&#x27;,\n",
              "       &#x27;0000000000000000116e&#x27;], dtype=object)</pre></div></li><li class='xr-var-item'><div class='xr-var-name'><span>x</span></div><div class='xr-var-dims'>(id)</div><div class='xr-var-dtype'>float64</div><div class='xr-var-preview xr-preview'>-150.1 -150.2 ... -150.4 -150.9</div><input id='attrs-9c7d1c67-5920-4133-a07f-7c86fa7f8a7a' class='xr-var-attrs-in' type='checkbox' disabled><label for='attrs-9c7d1c67-5920-4133-a07f-7c86fa7f8a7a' title='Show/Hide attributes'><svg class='icon xr-icon-file-text2'><use xlink:href='#icon-file-text2'></use></svg></label><input id='data-7324131f-f678-46ff-9172-b9d4285999e1' class='xr-var-data-in' type='checkbox'><label for='data-7324131f-f678-46ff-9172-b9d4285999e1' title='Show/Hide data repr'><svg class='icon xr-icon-database'><use xlink:href='#icon-database'></use></svg></label><div class='xr-var-attrs'><dl class='xr-attrs'></dl></div><div class='xr-var-data'><pre>array([-150.14145364, -150.2223391 , -150.77552826, ..., -148.62221876,\n",
              "       -150.40444354, -150.91501186])</pre></div></li><li class='xr-var-item'><div class='xr-var-name'><span>y</span></div><div class='xr-var-dims'>(id)</div><div class='xr-var-dtype'>float64</div><div class='xr-var-preview xr-preview'>68.66 69.75 69.53 ... 69.37 69.69</div><input id='attrs-3302cecf-bf0b-47d6-a4b0-5463723d6da1' class='xr-var-attrs-in' type='checkbox' disabled><label for='attrs-3302cecf-bf0b-47d6-a4b0-5463723d6da1' title='Show/Hide attributes'><svg class='icon xr-icon-file-text2'><use xlink:href='#icon-file-text2'></use></svg></label><input id='data-7af14030-5338-4df1-b553-fa808e1f7aaf' class='xr-var-data-in' type='checkbox'><label for='data-7af14030-5338-4df1-b553-fa808e1f7aaf' title='Show/Hide data repr'><svg class='icon xr-icon-database'><use xlink:href='#icon-database'></use></svg></label><div class='xr-var-attrs'><dl class='xr-attrs'></dl></div><div class='xr-var-data'><pre>array([68.65998934, 69.75134202, 69.52852502, ..., 69.48081959,\n",
              "       69.37491042, 69.69133156])</pre></div></li></ul></div></li><li class='xr-section-item'><input id='section-7cd81241-c8f5-4e1d-81b1-2dbcebf9d3f5' class='xr-section-summary-in' type='checkbox'  checked><label for='section-7cd81241-c8f5-4e1d-81b1-2dbcebf9d3f5' class='xr-section-summary' >Data variables: <span>(3)</span></label><div class='xr-section-inline-details'></div><div class='xr-section-details'><ul class='xr-var-list'><li class='xr-var-item'><div class='xr-var-name'><span>waterPixels</span></div><div class='xr-var-dims'>(date, id)</div><div class='xr-var-dtype'>float64</div><div class='xr-var-preview xr-preview'>0.0 0.0 0.0 ... 3.405e+03 58.0</div><input id='attrs-daff3e38-f275-4b05-a0b2-60453e7f44c0' class='xr-var-attrs-in' type='checkbox' disabled><label for='attrs-daff3e38-f275-4b05-a0b2-60453e7f44c0' title='Show/Hide attributes'><svg class='icon xr-icon-file-text2'><use xlink:href='#icon-file-text2'></use></svg></label><input id='data-c01a8a5a-0b54-467c-add0-35d1688e4167' class='xr-var-data-in' type='checkbox'><label for='data-c01a8a5a-0b54-467c-add0-35d1688e4167' title='Show/Hide data repr'><svg class='icon xr-icon-database'><use xlink:href='#icon-database'></use></svg></label><div class='xr-var-attrs'><dl class='xr-attrs'></dl></div><div class='xr-var-data'><pre>array([[   0.,    0.,    0., ..., 2885., 3407.,   50.],\n",
              "       [   0.,    0.,    0., ..., 2782., 3238.,    0.],\n",
              "       [   0.,    0.,    0., ..., 2849., 3374.,  105.],\n",
              "       [   0.,    0.,    0., ...,  863., 3374.,   57.],\n",
              "       [   0.,    0.,    0., ..., 2047., 3405.,   58.]])</pre></div></li><li class='xr-var-item'><div class='xr-var-name'><span>clearPixels</span></div><div class='xr-var-dims'>(date, id)</div><div class='xr-var-dtype'>float64</div><div class='xr-var-preview xr-preview'>87.73 82.53 ... 5.473e+03 9.72e+03</div><input id='attrs-e533595e-56f0-443d-986f-6075c8a9c60b' class='xr-var-attrs-in' type='checkbox' disabled><label for='attrs-e533595e-56f0-443d-986f-6075c8a9c60b' title='Show/Hide attributes'><svg class='icon xr-icon-file-text2'><use xlink:href='#icon-file-text2'></use></svg></label><input id='data-e9b884e4-c230-4b07-a1ea-ae01e8b34034' class='xr-var-data-in' type='checkbox'><label for='data-e9b884e4-c230-4b07-a1ea-ae01e8b34034' title='Show/Hide data repr'><svg class='icon xr-icon-database'><use xlink:href='#icon-database'></use></svg></label><div class='xr-var-attrs'><dl class='xr-attrs'></dl></div><div class='xr-var-data'><pre>array([[  87.72941176,   82.52941176,   84.41568627, ..., 4387.98039216,\n",
              "        5472.74509804, 9720.48235294],\n",
              "       [   0.        ,   82.52941176,    0.        , ..., 4387.98039216,\n",
              "        5472.74509804, 9720.48235294],\n",
              "       [  87.72941176,   82.52941176,   84.41568627, ..., 4387.98039216,\n",
              "        5472.74509804, 9720.48235294],\n",
              "       [  87.72941176,   82.52941176,   84.41568627, ..., 4387.98039216,\n",
              "        5472.74509804, 9720.48235294],\n",
              "       [  87.72941176,   82.52941176,   84.41568627, ..., 4387.98039216,\n",
              "        5472.74509804, 9720.48235294]])</pre></div></li><li class='xr-var-item'><div class='xr-var-name'><span>allPixels</span></div><div class='xr-var-dims'>(date, id)</div><div class='xr-var-dtype'>int64</div><div class='xr-var-preview xr-preview'>94 87 88 91 ... 2827 2936 5523 9829</div><input id='attrs-f004d86f-cddf-4474-95e9-4ddac539af25' class='xr-var-attrs-in' type='checkbox' disabled><label for='attrs-f004d86f-cddf-4474-95e9-4ddac539af25' title='Show/Hide attributes'><svg class='icon xr-icon-file-text2'><use xlink:href='#icon-file-text2'></use></svg></label><input id='data-7d50fcbb-6552-494a-928e-7228aa3f1ad1' class='xr-var-data-in' type='checkbox'><label for='data-7d50fcbb-6552-494a-928e-7228aa3f1ad1' title='Show/Hide data repr'><svg class='icon xr-icon-database'><use xlink:href='#icon-database'></use></svg></label><div class='xr-var-attrs'><dl class='xr-attrs'></dl></div><div class='xr-var-data'><pre>array([[  94,   87,   88, ..., 4421, 5523, 9829],\n",
              "       [  94,   87,   88, ..., 4421, 5523, 9829],\n",
              "       [  94,   87,   88, ..., 4421, 5523, 9829],\n",
              "       [  94,   87,   88, ..., 1345, 5523, 9829],\n",
              "       [  94,   87,   88, ..., 2936, 5523, 9829]])</pre></div></li></ul></div></li><li class='xr-section-item'><input id='section-8edeeb94-ebbf-492f-9834-142b578dd429' class='xr-section-summary-in' type='checkbox' disabled ><label for='section-8edeeb94-ebbf-492f-9834-142b578dd429' class='xr-section-summary'  title='Expand/collapse section'>Attributes: <span>(0)</span></label><div class='xr-section-inline-details'></div><div class='xr-section-details'><dl class='xr-attrs'></dl></div></li></ul></div></div>"
            ]
          },
          "metadata": {},
          "execution_count": 7
        }
      ]
    },
    {
      "cell_type": "markdown",
      "source": [
        "Select an example waterody (this one is random)"
      ],
      "metadata": {
        "id": "zU5e9H9FnrN1"
      }
    },
    {
      "cell_type": "code",
      "source": [
        "examples = ds.sel(id='0000000000000000081d') \n",
        "# Sort by date\n",
        "examples = examples.sortby('date')\n",
        "# Plot time series\n",
        "examples['waterPixels'].plot(x = 'date')"
      ],
      "metadata": {
        "colab": {
          "base_uri": "https://localhost:8080/",
          "height": 341
        },
        "id": "CrMYZMSAmCAr",
        "outputId": "b3dc5619-6c58-4249-efe9-33694ff37997"
      },
      "execution_count": 8,
      "outputs": [
        {
          "output_type": "execute_result",
          "data": {
            "text/plain": [
              "[<matplotlib.lines.Line2D at 0x7f95920bcc90>]"
            ]
          },
          "metadata": {},
          "execution_count": 8
        },
        {
          "output_type": "display_data",
          "data": {
            "text/plain": [
              "<Figure size 432x288 with 1 Axes>"
            ],
            "image/png": "[encoded data removed]"
          },
          "metadata": {
            "needs_background": "light"
          }
        }
      ]
    }
  ]
}