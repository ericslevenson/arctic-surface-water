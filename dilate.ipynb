{
  "nbformat": 4,
  "nbformat_minor": 0,
  "metadata": {
    "colab": {
      "provenance": [],
      "authorship_tag": "ABX9TyN2T0hsbNaCV426O2Zqp5+F",
      "include_colab_link": true
    },
    "kernelspec": {
      "name": "python3",
      "display_name": "Python 3"
    },
    "language_info": {
      "name": "python"
    }
  },
  "cells": [
    {
      "cell_type": "markdown",
      "metadata": {
        "id": "view-in-github",
        "colab_type": "text"
      },
      "source": [
        "<a href=\"https://colab.research.google.com/github/ericslevenson/arctic-surface-water/blob/main/dilate.ipynb\" target=\"_parent\"><img src=\"https://colab.research.google.com/assets/colab-badge.svg\" alt=\"Open In Colab\"/></a>"
      ]
    },
    {
      "cell_type": "code",
      "source": [
        "'''\n",
        "author: ericslevenson\n",
        "date: 10/16/2022\n",
        "description: dilate lake predictions"
      ],
      "metadata": {
        "id": "WUxBI7bspJVD"
      },
      "execution_count": null,
      "outputs": []
    },
    {
      "cell_type": "code",
      "source": [
        "# Authenticate private account (only required for exporting to drive/gee/gcp)\n",
        "from google.colab import auth \n",
        "auth.authenticate_user()\n",
        "# Google Drive setup\n",
        "from google.colab import drive\n",
        "drive.mount('/content/drive')\n",
        "# Complete the environment\n",
        "!pip install rasterio\n",
        "!pip install rioxarray"
      ],
      "metadata": {
        "id": "Dwu1msBWpIiY"
      },
      "execution_count": null,
      "outputs": []
    },
    {
      "cell_type": "code",
      "source": [
        "import os\n",
        "from rasterio import features\n",
        "import pandas as pd\n",
        "import shapely\n",
        "import seaborn as sns\n",
        "import numpy as np\n",
        "from matplotlib import pyplot as plt\n",
        "from rasterio.mask import mask\n",
        "from rasterio import plot\n",
        "from rasterio.merge import merge\n",
        "from rasterio.plot import show\n",
        "import rasterio\n",
        "import rioxarray as rxr\n",
        "import scipy"
      ],
      "metadata": {
        "id": "w-acirahprCW"
      },
      "execution_count": null,
      "outputs": []
    },
    {
      "cell_type": "code",
      "execution_count": null,
      "metadata": {
        "id": "5kBgO2xaBIo0"
      },
      "outputs": [],
      "source": [
        "predPath = '/content/drive/MyDrive/UNET_outputs/' # path to unet prediction directory\n",
        "outPath = '/content/drive/MyDrive/UNET_pred_dilated/' # path to dilated prediction directory\n"
      ]
    },
    {
      "cell_type": "code",
      "source": [
        "for i, f in enumerate(os.listdir(predPath)):\n",
        "  print(i, f)"
      ],
      "metadata": {
        "id": "Rdam9bL1rPHw"
      },
      "execution_count": null,
      "outputs": []
    },
    {
      "cell_type": "code",
      "source": [
        "# Option 1: Dilate lake predictions, vectorize, export shapefile\n",
        "kernel = np.ones((3,3),np.uint8) # define kernel matrix for dilation\n",
        "for i, f in enumerate(os.listdir(predPath)):\n",
        "    # Read in image to np array\n",
        "    with rasterio.open(predPath+f) as src:\n",
        "      data = src.read(1, masked = True)\n",
        "      meta = src.meata\n",
        "      meta.update({'nodata':np.nan})\n",
        "      trans = src.transform\n",
        "      dilated_pred = scipy.ndimage.binary_dilation(pred, kernel, iterations = 6)\n",
        "      # generate shapes\n",
        "      shape_gen = ((shape(s), v) for s, v in shapes(data, transform=src.transform))\n",
        "\n",
        "      # build a pd.DataFrame of shapes and convert to geodataframe\n",
        "      df = DataFrame(shape_gen, columns=['geometry', 'class'])\n",
        "      gdf = GeoDataFrame(df[\"class\"], geometry=df.geometry, crs=src.crs)\n",
        "      # filter out non-lake polygons\n",
        "      gdf = gdf[gdf['class'] == 1]\n",
        "      # write to file\n",
        "      gdf.to_file(outPath + f.split('.')[0] + '_bufferedLakes.shp')\n",
        "    print('writing ' + f + ' aka number ' + str(i+1)) "
      ],
      "metadata": {
        "colab": {
          "base_uri": "https://localhost:8080/"
        },
        "id": "mxX-cZNfBruG",
        "outputId": "5f355373-658f-43fc-ffea-08a1737915d1"
      },
      "execution_count": null,
      "outputs": [
        {
          "output_type": "stream",
          "name": "stdout",
          "text": [
            "writing 20160606_02WPU__unet_pred.tif aka number 1\n",
            "writing 20160606_02WPT__unet_pred.tif aka number 2\n",
            "writing 20160606_02VNR__unet_pred.tif aka number 3\n",
            "writing 20160606_02VNQ__unet_pred.tif aka number 4\n",
            "writing 20180614_02VMR__unet_pred.tif aka number 5\n",
            "writing 20180611_04VDP__unet_pred.tif aka number 6\n",
            "writing 20170714_02WPB__unet_pred.tif aka number 7\n",
            "writing 20180611_04VDN__unet_pred.tif aka number 8\n",
            "writing 20170714_02WPA__unet_pred.tif aka number 9\n",
            "writing 20190614_02VLN__unet_pred.tif aka number 10\n",
            "writing 20180613_02VPM__unet_pred.tif aka number 11\n",
            "writing 20180611_04VDM__unet_pred.tif aka number 12\n"
          ]
        }
      ]
    },
    {
      "cell_type": "code",
      "source": [
        "# Option 2: Dilate lake predictions, export raster\n",
        "kernel = np.ones((3,3),np.uint8) # define kernel matrix for dilation\n",
        "for i, f in enumerate(os.listdir(predPath)):\n",
        "    # Read in image to np array\n",
        "    imgReader = rasterio.open(predPath+f)\n",
        "    pred = imgReader.read(1)\n",
        "    # get metadata and transform\n",
        "    meta = imgReader.meta\n",
        "    meta.update({'nodata':np.nan})\n",
        "    trans = imgReader.transform\n",
        "    # dilate prediction image\n",
        "    dilated_pred = scipy.ndimage.binary_dilation(pred, kernel, iterations = 6)\n",
        "    # write dilated prediction\n",
        "    with rasterio.open(outPath + f.split('.')[0] + '_dilated.tif', 'w', **meta) as dest:\n",
        "      dest.write(dilated_pred, 1)  \n",
        "      print('writing ' + f + ' aka number ' + str(i+1) )"
      ],
      "metadata": {
        "id": "CbvR0LYVCOqM"
      },
      "execution_count": null,
      "outputs": []
    }
  ]
}